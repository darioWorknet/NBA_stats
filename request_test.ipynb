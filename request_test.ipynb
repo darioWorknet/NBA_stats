{
 "cells": [
  {
   "cell_type": "code",
   "execution_count": 1,
   "metadata": {},
   "outputs": [],
   "source": [
    "from selenium import webdriver\n",
    "import pandas as pd\n",
    "# import matplotlib\n",
    "import matplotlib.pyplot as plt\n",
    "import numpy as np\n",
    "import scipy.stats as stats\n",
    "import math\n",
    "import statistics\n",
    "import resources"
   ]
  },
  {
   "cell_type": "markdown",
   "metadata": {},
   "source": [
    "## Scrapping the data\n",
    "- Entering url and stracting data as a Pandas df\n",
    "- After scrapping the data, df will be stored as CSV file\n",
    "- If data has been already scrapped, data is stracted from CSV"
   ]
  },
  {
   "cell_type": "code",
   "execution_count": 2,
   "metadata": {},
   "outputs": [
    {
     "name": "stdout",
     "output_type": "stream",
     "text": [
      "Discarding following match Washington Wizards vs San Antonio Spurs\n",
      "Discarding following match New York Knicks vs Atlanta Hawks\n",
      "Discarding following match Denver Nuggets vs Memphis Grizzlies\n",
      "Discarding following match Milwaukee Bucks vs Phoenix Suns\n",
      "Discarding following match New York Knicks vs New Orleans Pelicans\n",
      "Discarding following match Los Angeles Lakers vs Utah Jazz\n",
      "Discarding following match Washington Wizards vs New Orleans Pelicans\n",
      "Discarding following match Boston Celtics vs Minnesota Timberwolves\n",
      "Discarding following match New York Knicks vs Memphis Grizzlies\n",
      "Discarding following match Phoenix Suns vs Utah Jazz\n",
      "Discarding following match San Antonio Spurs vs Indiana Pacers\n",
      "Discarding following match San Antonio Spurs vs Atlanta Hawks\n",
      "Discarding following match New Orleans Pelicans vs Orlando Magic\n",
      "Discarding following match Charlotte Hornets vs Phoenix Suns\n",
      "Discarding following match Memphis Grizzlies vs Boston Celtics\n",
      "Discarding following match New York Knicks vs Philadelphia 76ers\n",
      "Discarding following match Miami Heat vs Indiana Pacers\n",
      "Discarding following match Denver Nuggets vs Chicago Bulls\n",
      "Discarding following match Philadelphia 76ers vs Milwaukee Bucks\n",
      "Discarding following match Team Durant vs Team LeBron\n",
      "Discarding following match Philadelphia 76ers vs Utah Jazz\n",
      "Discarding following match San Antonio Spurs vs Brooklyn Nets\n",
      "Discarding following match Philadelphia 76ers vs Cleveland Cavaliers\n",
      "Discarding following match Chicago Bulls vs Minnesota Timberwolves\n",
      "Discarding following match Los Angeles Lakers vs Washington Wizards\n",
      "Discarding following match New Orleans Pelicans vs Boston Celtics\n",
      "Discarding following match Golden State Warriors vs Miami Heat\n",
      "Discarding following match Minnesota Timberwolves vs Indiana Pacers\n",
      "Discarding following match Indiana Pacers vs Chicago Bulls\n",
      "Discarding following match Los Angeles Lakers vs Oklahoma City Thunder\n",
      "Discarding following match Los Angeles Lakers vs Oklahoma City Thunder\n",
      "Discarding following match Los Angeles Lakers vs Detroit Pistons\n",
      "Discarding following match Miami Heat vs Charlotte Hornets\n",
      "Discarding following match Atlanta Hawks vs Brooklyn Nets\n",
      "Discarding following match Phoenix Suns vs Denver Nuggets\n",
      "Discarding following match Phoenix Suns vs Denver Nuggets\n",
      "Discarding following match Indiana Pacers vs Orlando Magic\n",
      "Discarding following match Atlanta Hawks vs Detroit Pistons\n",
      "Discarding following match Cleveland Cavaliers vs Brooklyn Nets\n",
      "Discarding following match Oklahoma City Thunder vs Chicago Bulls\n",
      "Discarding following match Philadelphia 76ers vs Miami Heat\n",
      "Discarding following match Minnesota Timberwolves vs San Antonio Spurs\n",
      "Discarding following match Detroit Pistons vs Phoenix Suns\n",
      "Discarding following match Denver Nuggets vs Dallas Mavericks\n",
      "Discarding following match New Orleans Pelicans vs Indiana Pacers\n",
      "Discarding following match Brooklyn Nets vs Memphis Grizzlies\n",
      "Discarding following match Portland Trail Blazers vs Houston Rockets\n",
      "Discarding following match Detroit Pistons vs Cleveland Cavaliers\n",
      "Discarding following match Denver Nuggets vs Sacramento Kings\n",
      "Discarding following match Dallas Mavericks vs Minnesota Timberwolves\n"
     ]
    }
   ],
   "source": [
    "# Check if exist a .csv with filename equals to TODAY DATETIME\n",
    "if True:\n",
    "#     NON_DESIRED_TEAMS = ['Team Durant','Team LeBron']\n",
    "    # Getting data\n",
    "    df = resources.data_scraper.scrape()\n",
    "    # Casting columns\n",
    "    df[df.columns[2]] = df[df.columns[2]].astype(np.int64)\n",
    "    df[df.columns[3]] = df[df.columns[3]].astype(np.int64)\n",
    "    # Adding total_score column\n",
    "    df[\"TotalScore\"] = df[df.columns[2]] + df[df.columns[3]]\n",
    "    # Store CSV\n",
    "    df.to_csv('data/30-04.csv', encoding='utf-8', index=False)\n",
    "else:\n",
    "    df = pd.read_csv('data/30-04.csv')"
   ]
  },
  {
   "cell_type": "code",
   "execution_count": 3,
   "metadata": {},
   "outputs": [
    {
     "data": {
      "text/plain": [
       "937"
      ]
     },
     "execution_count": 3,
     "metadata": {},
     "output_type": "execute_result"
    }
   ],
   "source": [
    "# NON_DESIRED_TEAMS = ['Team Durant','Team LeBron']\n",
    "# df = df[df[df.columns[0]] != (NON_DESIRED_TEAMS[0] or NON_DESIRED_TEAMS[1])]\n",
    "# df = df[df[df.columns[1]] != (NON_DESIRED_TEAMS[0] or NON_DESIRED_TEAMS[1])]\n",
    "len(df) # 833 for today"
   ]
  },
  {
   "cell_type": "markdown",
   "metadata": {},
   "source": [
    "#### Heatmap"
   ]
  },
  {
   "cell_type": "code",
   "execution_count": 4,
   "metadata": {},
   "outputs": [],
   "source": [
    "# resources.graph.heatmap(df, f_size=10, cmap=\"afmhot_r\",vmin=150, vmax=250)"
   ]
  },
  {
   "cell_type": "markdown",
   "metadata": {},
   "source": [
    "### Frecuency histogram\n",
    "- To know how many divisions or 'bins' should be done in the histogram, we must use Sturges law\n",
    "\n",
    "$$ c = 1 + \\dfrac{log(M)}{log(2)}$$"
   ]
  },
  {
   "cell_type": "code",
   "execution_count": 5,
   "metadata": {},
   "outputs": [],
   "source": [
    "# resources.graph.frecuency_histogram(df)\n"
   ]
  },
  {
   "cell_type": "markdown",
   "metadata": {},
   "source": [
    "#### Boxplot"
   ]
  },
  {
   "cell_type": "code",
   "execution_count": 6,
   "metadata": {},
   "outputs": [],
   "source": [
    "# plt.boxplot(df['TotalScore'])\n",
    "# plt.title(\"Total score distribution\")"
   ]
  },
  {
   "cell_type": "markdown",
   "metadata": {},
   "source": [
    "#### Normal dfistribution"
   ]
  },
  {
   "cell_type": "code",
   "execution_count": 7,
   "metadata": {},
   "outputs": [],
   "source": [
    "# resources.graph.normal_distribution(df, 'Atlanta Hawks')"
   ]
  },
  {
   "cell_type": "markdown",
   "metadata": {},
   "source": [
    "## Data analysis\n",
    "- Analysing data\n",
    "- Store results in a new df"
   ]
  },
  {
   "cell_type": "code",
   "execution_count": 8,
   "metadata": {},
   "outputs": [],
   "source": [
    "stats_df = resources.nba_stats.stats(df)"
   ]
  },
  {
   "cell_type": "markdown",
   "metadata": {},
   "source": [
    "## Manually studying data"
   ]
  },
  {
   "cell_type": "code",
   "execution_count": 9,
   "metadata": {},
   "outputs": [],
   "source": [
    "conversion_dict = {\n",
    "    'ATL': 'Atlanta Hawks',\n",
    "    'BOS': 'Boston Celtics',\n",
    "    'BKN': 'Brooklyn Nets',\n",
    "    'CHA': 'Charlotte Hornets',\n",
    "    'CHI': 'Chicago Bulls',\n",
    "    'CLE': 'Cleveland Cavaliers',\n",
    "    'DAL': 'Dallas Mavericks',\n",
    "    'DEN': 'Denver Nuggets',\n",
    "    'DET': 'Detroit Pistons',\n",
    "    'GS': 'Golden State Warriors',\n",
    "    'HOU': 'Houston Rockets',\n",
    "    'IND': 'Indiana Pacers',\n",
    "    'LAC': 'Los Angeles Clippers',\n",
    "    'LAL': 'Los Angeles Lakers',\n",
    "    'MEM': 'Memphis Grizzlies',\n",
    "    'MIA': 'Miami Heat',\n",
    "    'MIL': 'Milwaukee Bucks',\n",
    "    'MIN': 'Minnesota Timberwolves',\n",
    "    'NO': 'New Orleans Pelicans',\n",
    "    'NY': 'New York Knicks',\n",
    "    'OKC': 'Oklahoma City Thunder',\n",
    "    'ORL': 'Orlando Magic',\n",
    "    'PHX': 'Phoenix Suns',\n",
    "    'PHI': 'Philadelphia 76ers',\n",
    "    'POR': 'Portland Trail Blazers',\n",
    "    'SAC': 'Sacramento Kings',\n",
    "    'SA': 'San Antonio Spurs',\n",
    "    'TOR': 'Toronto Raptors',\n",
    "    'UTA': 'Utah Jazz',\n",
    "    'WAS': 'Washington Wizards'\n",
    "}"
   ]
  },
  {
   "cell_type": "code",
   "execution_count": 10,
   "metadata": {},
   "outputs": [
    {
     "name": "stdout",
     "output_type": "stream",
     "text": [
      "                 team        mean  factorDown  factorUp\n",
      "17  Charlotte Hornets  221.359375    4.687500  6.250000\n",
      "20      Atlanta Hawks  222.476190    7.936508  6.349206\n",
      "\n",
      "\n",
      "\n",
      "              team        mean  factorDown  factorUp\n",
      "0   Denver Nuggets  222.933333    6.666667  6.666667\n",
      "10  Boston Celtics  220.145161   16.129032  6.451613\n",
      "\n",
      "\n",
      "\n",
      "               team        mean  factorDown   factorUp\n",
      "19    Orlando Magic  217.390625    9.375000   1.562500\n",
      "25  Milwaukee Bucks  232.619048    1.587302  28.571429\n",
      "\n",
      "\n",
      "\n",
      "                    team        mean  factorDown   factorUp\n",
      "13   Cleveland Cavaliers  212.809524   23.809524   3.174603\n",
      "18  New Orleans Pelicans  229.016667    8.333333  18.333333\n",
      "\n",
      "\n",
      "\n",
      "                      team        mean  factorDown  factorUp\n",
      "3   Minnesota Timberwolves  225.870968    6.451613  8.064516\n",
      "26           Chicago Bulls  221.645161    6.451613  6.451613\n",
      "\n",
      "\n",
      "\n",
      "                team        mean  factorDown   factorUp\n",
      "5     Indiana Pacers  226.847458    8.474576  16.949153\n",
      "8  Memphis Grizzlies  224.688525    8.196721  14.754098\n",
      "\n",
      "\n",
      "\n",
      "                 team        mean  factorDown   factorUp\n",
      "24   Dallas Mavericks  221.428571   14.285714  11.111111\n",
      "27  San Antonio Spurs  218.728814   16.949153   1.694915\n",
      "\n",
      "\n",
      "\n",
      "               team        mean  factorDown   factorUp\n",
      "11  New York Knicks  208.555556   33.333333   3.174603\n",
      "16  Toronto Raptors  222.803030    7.575758  10.606061\n",
      "\n",
      "\n",
      "\n",
      "                    team        mean  factorDown  factorUp\n",
      "4        Detroit Pistons  214.984127   15.873016  6.349206\n",
      "28  Los Angeles Clippers  222.253731    8.955224  8.955224\n",
      "\n",
      "\n",
      "\n",
      "                      team        mean  factorDown   factorUp\n",
      "9               Miami Heat  211.852459   24.590164   0.000000\n",
      "21  Portland Trail Blazers  228.969231    3.076923  13.846154\n",
      "\n",
      "\n",
      "\n"
     ]
    }
   ],
   "source": [
    "future_games = [\n",
    "    ['ATL', 'CHA'],\n",
    "    ['BOS', 'DEN'],\n",
    "    ['MIL', 'ORL'],\n",
    "    ['NO', 'CLE'],\n",
    "    ['CHI', 'MIN'],\n",
    "    ['IND', 'MEM'],\n",
    "    ['SA', 'DAL'],\n",
    "    ['TOR', 'NY'],\n",
    "    ['DET', 'LAC'],\n",
    "    ['MIA', 'POR'],    \n",
    "]\n",
    "\n",
    "games_converted = list()\n",
    "               \n",
    "for game in future_games:\n",
    "    home_team = conversion_dict[game[0]]\n",
    "    away_team = conversion_dict[game[1]]\n",
    "    game_ = [home_team, away_team]\n",
    "    games_converted.append(game_)\n",
    "    \n",
    "for game in games_converted:\n",
    "    df_ = stats_df.query(\"team == '{0}' or team == '{1}'\".format(game[0], game[1]))\n",
    "#     print(df_)\n",
    "    print(df_.iloc[:,[0,1,4,5]])\n",
    "    print(\"\\n\\n\")\n",
    "        "
   ]
  },
  {
   "cell_type": "markdown",
   "metadata": {},
   "source": [
    "## Training model"
   ]
  },
  {
   "cell_type": "code",
   "execution_count": 11,
   "metadata": {},
   "outputs": [
    {
     "name": "stdout",
     "output_type": "stream",
     "text": [
      "Training model with input:\n",
      "X: [0.06666667 0.68156863 0.06666667 0.10606061 0.68003565 0.10606061]\n",
      "Expected output:\n",
      "y: 0.788235294117647\n",
      "\n",
      "\n",
      "Training model with input:\n",
      "X: [0.07936508 0.63902894 0.04761905 0.18333333 0.75313725 0.18333333]\n",
      "Expected output:\n",
      "y: 0.4588235294117647\n",
      "\n",
      "\n",
      "Training model with input:\n",
      "X: [0.13636364 0.67825312 0.09090909 0.28571429 0.79551821 0.28571429]\n",
      "Expected output:\n",
      "y: 1\n",
      "\n",
      "\n",
      "Training model with input:\n",
      "X: [0.06451613 0.71612903 0.08064516 0.13846154 0.71927602 0.13846154]\n",
      "Expected output:\n",
      "y: 0.8823529411764706\n",
      "\n",
      "\n",
      "Training model with input:\n",
      "X: [0.15873016 0.58804855 0.06349206 0.11111111 0.66386555 0.11111111]\n",
      "Expected output:\n",
      "y: 0.6470588235294118\n",
      "\n",
      "\n",
      "Training model with input:\n",
      "X: [0.08474576 0.72761715 0.16949153 0.2295082  0.77994214 0.2295082 ]\n",
      "Expected output:\n",
      "y: 0.9176470588235294\n",
      "\n",
      "\n"
     ]
    }
   ],
   "source": [
    "def normalize(x, min_, max_):\n",
    "    x = float(x)\n",
    "    if x >= max_:\n",
    "        return 1\n",
    "    elif x <= min_:\n",
    "        return 0\n",
    "    return (x - min_) / (float(max_) - min_)\n",
    "\n",
    "def denormalize(z, min_, max_):\n",
    "    return z * (max_ - min_) + min_\n",
    "    \n",
    "\n",
    "def prepare_data(df):\n",
    "    down, mean, up = df['factorDown'], df['mean'], df['factorUp']\n",
    "    mean = normalize(mean, 165, 250)\n",
    "    down = float(down)/100\n",
    "    up = float(up)/100\n",
    "    return down, mean, up\n",
    "    \n",
    "\n",
    "for index, row in df.iterrows():\n",
    "    home, away, score = row['HomeTeam'], row['AwayTeam'], row['TotalScore']\n",
    "    df_h = stats_df.query(\"team == '{0}'\".format(home))\n",
    "    df_a = stats_df.query(\"team == '{0}'\".format(away))\n",
    "\n",
    "    h_down, h_mean, h_up = prepare_data(df_h)\n",
    "    a_down, a_mean, a_up = prepare_data(df_a)\n",
    "    \n",
    "    # Input for ML model\n",
    "    X = np.array([h_down, h_mean, h_up, a_up, a_mean, a_up])\n",
    "    # Expected result\n",
    "    y = normalize(score, 165, 250)   \n",
    "    \n",
    "    print('Training model with input:\\nX: {}\\nExpected output:\\ny: {}\\n\\n'.format(X, y))\n",
    "    \n",
    "    if index>=5:\n",
    "        break"
   ]
  }
 ],
 "metadata": {
  "kernelspec": {
   "display_name": "Python 3",
   "language": "python",
   "name": "python3"
  },
  "language_info": {
   "codemirror_mode": {
    "name": "ipython",
    "version": 3
   },
   "file_extension": ".py",
   "mimetype": "text/x-python",
   "name": "python",
   "nbconvert_exporter": "python",
   "pygments_lexer": "ipython3",
   "version": "3.8.5"
  }
 },
 "nbformat": 4,
 "nbformat_minor": 4
}
