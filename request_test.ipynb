{
 "cells": [
  {
   "cell_type": "code",
   "execution_count": 1,
   "metadata": {},
   "outputs": [],
   "source": [
    "from selenium import webdriver\n",
    "import pandas as pd\n",
    "# import matplotlib\n",
    "import matplotlib.pyplot as plt\n",
    "import numpy as np\n",
    "import scipy.stats as stats\n",
    "import math\n",
    "import statistics\n",
    "import resources"
   ]
  },
  {
   "cell_type": "markdown",
   "metadata": {},
   "source": [
    "## Scrapping the data\n",
    "- Entering url and stracting data as a Pandas df\n",
    "- After scrapping the data, df will be stored as CSV file\n",
    "- If data has been already scrapped, data is stracted from CSV"
   ]
  },
  {
   "cell_type": "code",
   "execution_count": 2,
   "metadata": {},
   "outputs": [],
   "source": [
    "# Check if exist a .csv with filename equals to TODAY DATETIME\n",
    "if False:\n",
    "#     NON_DESIRED_TEAMS = ['Team Durant','Team LeBron']\n",
    "    # Getting data\n",
    "    df = resources.data_scraper.scrape()\n",
    "    # Filtering data\n",
    "#     df = df[df[df.columns[0]] != (NON_DESIRED_TEAMS[0] or NON_DESIRED_TEAMS[1])]\n",
    "#     df = df[df[df.columns[1]] != (NON_DESIRED_TEAMS[0] or NON_DESIRED_TEAMS[1])]\n",
    "    # Casting columns\n",
    "    df[df.columns[2]] = df[df.columns[2]].astype(np.int64)\n",
    "    df[df.columns[3]] = df[df.columns[3]].astype(np.int64)\n",
    "    # Adding total_score column\n",
    "    df[\"TotalScore\"] = df[df.columns[2]] + df[df.columns[3]]\n",
    "    # Store CSV\n",
    "    df.to_csv('data/11-04.csv', encoding='utf-8', index=False)\n",
    "else:\n",
    "    df = pd.read_csv('data/11-04.csv')"
   ]
  },
  {
   "cell_type": "code",
   "execution_count": 3,
   "metadata": {},
   "outputs": [
    {
     "data": {
      "text/html": [
       "<div>\n",
       "<style scoped>\n",
       "    .dataframe tbody tr th:only-of-type {\n",
       "        vertical-align: middle;\n",
       "    }\n",
       "\n",
       "    .dataframe tbody tr th {\n",
       "        vertical-align: top;\n",
       "    }\n",
       "\n",
       "    .dataframe thead th {\n",
       "        text-align: right;\n",
       "    }\n",
       "</style>\n",
       "<table border=\"1\" class=\"dataframe\">\n",
       "  <thead>\n",
       "    <tr style=\"text-align: right;\">\n",
       "      <th></th>\n",
       "      <th>HomeTeam</th>\n",
       "      <th>AwayTeam</th>\n",
       "      <th>ScoreHome</th>\n",
       "      <th>ScoreAway</th>\n",
       "      <th>TotalScore</th>\n",
       "    </tr>\n",
       "  </thead>\n",
       "  <tbody>\n",
       "    <tr>\n",
       "      <th>0</th>\n",
       "      <td>Golden State Warriors</td>\n",
       "      <td>Houston Rockets</td>\n",
       "      <td>125</td>\n",
       "      <td>109</td>\n",
       "      <td>234</td>\n",
       "    </tr>\n",
       "    <tr>\n",
       "      <th>1</th>\n",
       "      <td>Phoenix Suns</td>\n",
       "      <td>Washington Wizards</td>\n",
       "      <td>134</td>\n",
       "      <td>106</td>\n",
       "      <td>240</td>\n",
       "    </tr>\n",
       "    <tr>\n",
       "      <th>2</th>\n",
       "      <td>Portland Trail Blazers</td>\n",
       "      <td>Detroit Pistons</td>\n",
       "      <td>118</td>\n",
       "      <td>103</td>\n",
       "      <td>221</td>\n",
       "    </tr>\n",
       "    <tr>\n",
       "      <th>3</th>\n",
       "      <td>Oklahoma City Thunder</td>\n",
       "      <td>Philadelphia 76ers</td>\n",
       "      <td>93</td>\n",
       "      <td>117</td>\n",
       "      <td>210</td>\n",
       "    </tr>\n",
       "    <tr>\n",
       "      <th>4</th>\n",
       "      <td>Utah Jazz</td>\n",
       "      <td>Sacramento Kings</td>\n",
       "      <td>128</td>\n",
       "      <td>112</td>\n",
       "      <td>240</td>\n",
       "    </tr>\n",
       "  </tbody>\n",
       "</table>\n",
       "</div>"
      ],
      "text/plain": [
       "                 HomeTeam            AwayTeam  ScoreHome  ScoreAway  \\\n",
       "0   Golden State Warriors     Houston Rockets        125        109   \n",
       "1            Phoenix Suns  Washington Wizards        134        106   \n",
       "2  Portland Trail Blazers     Detroit Pistons        118        103   \n",
       "3   Oklahoma City Thunder  Philadelphia 76ers         93        117   \n",
       "4               Utah Jazz    Sacramento Kings        128        112   \n",
       "\n",
       "   TotalScore  \n",
       "0         234  \n",
       "1         240  \n",
       "2         221  \n",
       "3         210  \n",
       "4         240  "
      ]
     },
     "execution_count": 3,
     "metadata": {},
     "output_type": "execute_result"
    }
   ],
   "source": [
    "# NON_DESIRED_TEAMS = ['Team Durant','Team LeBron']\n",
    "# df = df[df[df.columns[0]] != (NON_DESIRED_TEAMS[0] or NON_DESIRED_TEAMS[1])]\n",
    "# df = df[df[df.columns[1]] != (NON_DESIRED_TEAMS[0] or NON_DESIRED_TEAMS[1])]\n",
    "len(df) # 833 for today\n",
    "df.head()"
   ]
  },
  {
   "cell_type": "markdown",
   "metadata": {},
   "source": [
    "#### Heatmap"
   ]
  },
  {
   "cell_type": "code",
   "execution_count": 4,
   "metadata": {},
   "outputs": [],
   "source": [
    "# resources.graph.heatmap(df, f_size=10, cmap=\"afmhot_r\",vmin=150, vmax=250)"
   ]
  },
  {
   "cell_type": "markdown",
   "metadata": {},
   "source": [
    "### Frecuency histogram\n",
    "- To know how many divisions or 'bins' should be done in the histogram, we must use Sturges law\n",
    "\n",
    "$$ c = 1 + \\dfrac{log(M)}{log(2)}$$"
   ]
  },
  {
   "cell_type": "code",
   "execution_count": 5,
   "metadata": {},
   "outputs": [],
   "source": [
    "# resources.graph.frecuency_histogram(df)\n"
   ]
  },
  {
   "cell_type": "markdown",
   "metadata": {},
   "source": [
    "#### Boxplot"
   ]
  },
  {
   "cell_type": "code",
   "execution_count": 6,
   "metadata": {},
   "outputs": [],
   "source": [
    "# plt.boxplot(df['TotalScore'])\n",
    "# plt.title(\"Total score distribution\")"
   ]
  },
  {
   "cell_type": "markdown",
   "metadata": {},
   "source": [
    "#### Normal dfistribution"
   ]
  },
  {
   "cell_type": "code",
   "execution_count": 7,
   "metadata": {},
   "outputs": [],
   "source": [
    "# resources.graph.normal_distribution(df, 'Atlanta Hawks')"
   ]
  },
  {
   "cell_type": "markdown",
   "metadata": {},
   "source": [
    "## Data analysis\n",
    "- Analysing data\n",
    "- Store results in a new df\n",
    "- Calculus:\n",
    "        - Mean\n",
    "        - P25 / P75\n",
    "        - factorUp / factorDown given a percentile\n",
    "        - weightedFactor Up/Down given a percentile\n"
   ]
  },
  {
   "cell_type": "code",
   "execution_count": 8,
   "metadata": {},
   "outputs": [
    {
     "name": "stdout",
     "output_type": "stream",
     "text": [
      "Team: Golden State Warriors, percentile: 25, pos: 214.0\n",
      "Team: Phoenix Suns, percentile: 25, pos: 209.0\n",
      "Team: Portland Trail Blazers, percentile: 25, pos: 220.75\n",
      "Team: Oklahoma City Thunder, percentile: 25, pos: 208.75\n",
      "Team: Utah Jazz, percentile: 25, pos: 211.5\n",
      "Team: Brooklyn Nets, percentile: 25, pos: 220.5\n",
      "Team: Cleveland Cavaliers, percentile: 25, pos: 198.0\n",
      "Team: Los Angeles Clippers, percentile: 25, pos: 210.0\n",
      "Team: Denver Nuggets, percentile: 25, pos: 216.5\n",
      "Team: Milwaukee Bucks, percentile: 25, pos: 222.5\n",
      "Team: Atlanta Hawks, percentile: 25, pos: 214.0\n",
      "Team: New Orleans Pelicans, percentile: 25, pos: 220.25\n",
      "Team: Boston Celtics, percentile: 25, pos: 210.5\n",
      "Team: New York Knicks, percentile: 25, pos: 196.0\n",
      "Team: Orlando Magic, percentile: 25, pos: 205.25\n",
      "Team: Sacramento Kings, percentile: 25, pos: 223.0\n",
      "Team: Dallas Mavericks, percentile: 25, pos: 209.25\n",
      "Team: Miami Heat, percentile: 25, pos: 199.75\n",
      "Team: Toronto Raptors, percentile: 25, pos: 211.75\n",
      "Team: Houston Rockets, percentile: 25, pos: 212.0\n",
      "Team: Indiana Pacers, percentile: 25, pos: 213.5\n",
      "Team: Minnesota Timberwolves, percentile: 25, pos: 214.0\n",
      "Team: San Antonio Spurs, percentile: 25, pos: 210.0\n",
      "Team: Philadelphia 76ers, percentile: 25, pos: 210.0\n",
      "Team: Chicago Bulls, percentile: 25, pos: 212.5\n",
      "Team: Detroit Pistons, percentile: 25, pos: 204.0\n",
      "Team: Washington Wizards, percentile: 25, pos: 216.5\n",
      "Team: Memphis Grizzlies, percentile: 25, pos: 216.0\n",
      "Team: Los Angeles Lakers, percentile: 25, pos: 205.0\n",
      "Team: Charlotte Hornets, percentile: 25, pos: 212.0\n",
      "Team: Golden State Warriors, percentile: 75, pos: 234.25\n",
      "Team: Phoenix Suns, percentile: 75, pos: 233.5\n",
      "Team: Portland Trail Blazers, percentile: 75, pos: 242.5\n",
      "Team: Oklahoma City Thunder, percentile: 75, pos: 227.5\n",
      "Team: Utah Jazz, percentile: 75, pos: 236.75\n",
      "Team: Brooklyn Nets, percentile: 75, pos: 245.0\n",
      "Team: Cleveland Cavaliers, percentile: 75, pos: 227.0\n",
      "Team: Los Angeles Clippers, percentile: 75, pos: 234.0\n",
      "Team: Denver Nuggets, percentile: 75, pos: 236.0\n",
      "Team: Milwaukee Bucks, percentile: 75, pos: 243.5\n",
      "Team: Atlanta Hawks, percentile: 75, pos: 236.0\n",
      "Team: New Orleans Pelicans, percentile: 75, pos: 245.75\n",
      "Team: Boston Celtics, percentile: 75, pos: 233.5\n",
      "Team: New York Knicks, percentile: 75, pos: 220.0\n",
      "Team: Orlando Magic, percentile: 75, pos: 228.75\n",
      "Team: Sacramento Kings, percentile: 75, pos: 243.0\n",
      "Team: Dallas Mavericks, percentile: 75, pos: 237.5\n",
      "Team: Miami Heat, percentile: 75, pos: 226.5\n",
      "Team: Toronto Raptors, percentile: 75, pos: 237.25\n",
      "Team: Houston Rockets, percentile: 75, pos: 234.0\n",
      "Team: Indiana Pacers, percentile: 75, pos: 238.0\n",
      "Team: Minnesota Timberwolves, percentile: 75, pos: 239.25\n",
      "Team: San Antonio Spurs, percentile: 75, pos: 234.0\n",
      "Team: Philadelphia 76ers, percentile: 75, pos: 232.0\n",
      "Team: Chicago Bulls, percentile: 75, pos: 235.5\n",
      "Team: Detroit Pistons, percentile: 75, pos: 228.0\n",
      "Team: Washington Wizards, percentile: 75, pos: 248.5\n",
      "Team: Memphis Grizzlies, percentile: 75, pos: 235.75\n",
      "Team: Los Angeles Lakers, percentile: 75, pos: 227.0\n",
      "Team: Charlotte Hornets, percentile: 75, pos: 236.0\n"
     ]
    }
   ],
   "source": [
    "stats_df = resources.nba_stats.stats(df, p_factor=25, p_weight=25) # Add pWeight pFactor"
   ]
  },
  {
   "cell_type": "code",
   "execution_count": 9,
   "metadata": {},
   "outputs": [
    {
     "data": {
      "text/html": [
       "<div>\n",
       "<style scoped>\n",
       "    .dataframe tbody tr th:only-of-type {\n",
       "        vertical-align: middle;\n",
       "    }\n",
       "\n",
       "    .dataframe tbody tr th {\n",
       "        vertical-align: top;\n",
       "    }\n",
       "\n",
       "    .dataframe thead th {\n",
       "        text-align: right;\n",
       "    }\n",
       "</style>\n",
       "<table border=\"1\" class=\"dataframe\">\n",
       "  <thead>\n",
       "    <tr style=\"text-align: right;\">\n",
       "      <th></th>\n",
       "      <th>team</th>\n",
       "      <th>mean</th>\n",
       "      <th>P25</th>\n",
       "      <th>P75</th>\n",
       "      <th>factorDown</th>\n",
       "      <th>factorUp</th>\n",
       "      <th>WfactorDown</th>\n",
       "      <th>WfactorUp</th>\n",
       "    </tr>\n",
       "  </thead>\n",
       "  <tbody>\n",
       "    <tr>\n",
       "      <th>0</th>\n",
       "      <td>Golden State Warriors</td>\n",
       "      <td>225.767857</td>\n",
       "      <td>214.0</td>\n",
       "      <td>234.25</td>\n",
       "      <td>25.0</td>\n",
       "      <td>21.428571</td>\n",
       "      <td>46.074956</td>\n",
       "      <td>228.714124</td>\n",
       "    </tr>\n",
       "  </tbody>\n",
       "</table>\n",
       "</div>"
      ],
      "text/plain": [
       "                    team        mean    P25     P75  factorDown   factorUp  \\\n",
       "0  Golden State Warriors  225.767857  214.0  234.25        25.0  21.428571   \n",
       "\n",
       "   WfactorDown   WfactorUp  \n",
       "0    46.074956  228.714124  "
      ]
     },
     "execution_count": 9,
     "metadata": {},
     "output_type": "execute_result"
    }
   ],
   "source": [
    "stats_df.head(1)"
   ]
  },
  {
   "cell_type": "markdown",
   "metadata": {},
   "source": [
    "## Manually studying data"
   ]
  },
  {
   "cell_type": "code",
   "execution_count": 10,
   "metadata": {},
   "outputs": [],
   "source": [
    "conversion_dict = {\n",
    "    'ATL': 'Atlanta Hawks',\n",
    "    'BOS': 'Boston Celtics',\n",
    "    'BKN': 'Brooklyn Nets',\n",
    "    'CHA': 'Charlotte Hornets',\n",
    "    'CHI': 'Chicago Bulls',\n",
    "    'CLE': 'Cleveland Cavaliers',\n",
    "    'DAL': 'Dallas Mavericks',\n",
    "    'DEN': 'Denver Nuggets',\n",
    "    'DET': 'Detroit Pistons',\n",
    "    'GS': 'Golden State Warriors',\n",
    "    'HOU': 'Houston Rockets',\n",
    "    'IND': 'Indiana Pacers',\n",
    "    'LAC': 'Los Angeles Clippers',\n",
    "    'LAL': 'Los Angeles Lakers',\n",
    "    'MEM': 'Memphis Grizzlies',\n",
    "    'MIA': 'Miami Heat',\n",
    "    'MIL': 'Milwaukee Bucks',\n",
    "    'MIN': 'Minnesota Timberwolves',\n",
    "    'NO': 'New Orleans Pelicans',\n",
    "    'NY': 'New York Knicks',\n",
    "    'OKC': 'Oklahoma City Thunder',\n",
    "    'ORL': 'Orlando Magic',\n",
    "    'PHX': 'Phoenix Suns',\n",
    "    'PHI': 'Philadelphia 76ers',\n",
    "    'POR': 'Portland Trail Blazers',\n",
    "    'SAC': 'Sacramento Kings',\n",
    "    'SA': 'San Antonio Spurs',\n",
    "    'TOR': 'Toronto Raptors',\n",
    "    'UTA': 'Utah Jazz',\n",
    "    'WAS': 'Washington Wizards'\n",
    "}"
   ]
  },
  {
   "cell_type": "code",
   "execution_count": 17,
   "metadata": {},
   "outputs": [
    {
     "name": "stdout",
     "output_type": "stream",
     "text": [
      "          mean  WfactorDown   WfactorUp  factorDown   factorUp    P25    P75  \\\n",
      "9   232.218182    72.560846  221.735450    7.272727  50.909091  222.5  243.5   \n",
      "10  225.350877   120.634642  280.118781   24.561404  28.070175  214.0  236.0   \n",
      "\n",
      "               team  \n",
      "9   Milwaukee Bucks  \n",
      "10    Atlanta Hawks  \n",
      "\n",
      "\n",
      "\n",
      "         mean  WfactorDown   WfactorUp  factorDown   factorUp    P25     P75  \\\n",
      "0  225.767857    46.074956  228.714124   25.000000  21.428571  214.0  234.25   \n",
      "6  214.589286   672.140473  149.686362   39.285714  12.500000  198.0  227.00   \n",
      "\n",
      "                    team  \n",
      "0  Golden State Warriors  \n",
      "6    Cleveland Cavaliers  \n",
      "\n",
      "\n",
      "\n",
      "          mean  WfactorDown   WfactorUp  factorDown   factorUp    P25    P75  \\\n",
      "12  222.600000   182.965782  237.200579   23.636364  14.545455  210.5  233.5   \n",
      "28  215.736842   531.237767  136.230417   42.105263  10.526316  205.0  227.0   \n",
      "\n",
      "                  team  \n",
      "12      Boston Celtics  \n",
      "28  Los Angeles Lakers  \n",
      "\n",
      "\n",
      "\n",
      "          mean  WfactorDown   WfactorUp  factorDown   factorUp    P25    P75  \\\n",
      "1   222.321429   151.664056  145.886926   28.571429  23.214286  209.0  233.5   \n",
      "15  232.473684    24.705291  417.133694    3.508772  42.105263  223.0  243.0   \n",
      "\n",
      "                team  \n",
      "1       Phoenix Suns  \n",
      "15  Sacramento Kings  \n",
      "\n",
      "\n",
      "\n"
     ]
    }
   ],
   "source": [
    "future_games = [\n",
    "    ['MIL', 'ATL'], #230\n",
    "    ['GS', 'CLE'],  #224\n",
    "    ['BOS', 'LAL'],  #212\n",
    "    ['SAC', 'PHX'], #234\n",
    "]\n",
    "\n",
    "games_converted = list()\n",
    "               \n",
    "for game in future_games:\n",
    "    home_team = conversion_dict[game[0]]\n",
    "    away_team = conversion_dict[game[1]]\n",
    "    game_ = [home_team, away_team]\n",
    "    games_converted.append(game_)\n",
    "    \n",
    "for game in games_converted:\n",
    "    df_ = stats_df.query(\"team == '{0}' or team == '{1}'\".format(game[0], game[1]))\n",
    "    print(df_.iloc[:,[1,6,7,4,5,2,3,0]])\n",
    "    print(\"\\n\\n\")"
   ]
  },
  {
   "cell_type": "markdown",
   "metadata": {},
   "source": [
    "## Training model"
   ]
  },
  {
   "cell_type": "code",
   "execution_count": 12,
   "metadata": {},
   "outputs": [
    {
     "name": "stdout",
     "output_type": "stream",
     "text": [
      "Training model with input:\n",
      "X: [0.25       0.71491597 0.21428571 0.15789474 0.66625387 0.15789474]\n",
      "Expected output:\n",
      "y: 0.8117647058823529\n",
      "\n",
      "\n",
      "Training model with input:\n",
      "X: [0.28571429 0.67436975 0.23214286 0.43636364 0.7713369  0.43636364]\n",
      "Expected output:\n",
      "y: 0.8823529411764706\n",
      "\n",
      "\n",
      "Training model with input:\n",
      "X: [0.08928571 0.76197479 0.32142857 0.1754386  0.60474716 0.1754386 ]\n",
      "Expected output:\n",
      "y: 0.6588235294117647\n",
      "\n",
      "\n",
      "Training model with input:\n",
      "X: [0.28571429 0.63991597 0.16071429 0.12727273 0.67037433 0.12727273]\n",
      "Expected output:\n",
      "y: 0.5294117647058824\n",
      "\n",
      "\n",
      "Training model with input:\n",
      "X: [0.23214286 0.69663866 0.28571429 0.42105263 0.79380805 0.42105263]\n",
      "Expected output:\n",
      "y: 0.8823529411764706\n",
      "\n",
      "\n",
      "Training model with input:\n",
      "X: [0.14545455 0.7942246  0.47272727 0.10526316 0.59690402 0.10526316]\n",
      "Expected output:\n",
      "y: 0.7294117647058823\n",
      "\n",
      "\n"
     ]
    }
   ],
   "source": [
    "def normalize(x, min_, max_):\n",
    "    x = float(x)\n",
    "    if x >= max_:\n",
    "        return 1\n",
    "    elif x <= min_:\n",
    "        return 0\n",
    "    return (x - min_) / (float(max_) - min_)\n",
    "\n",
    "def denormalize(z, min_, max_):\n",
    "    return z * (max_ - min_) + min_\n",
    "    \n",
    "\n",
    "def prepare_data(df):\n",
    "    down, mean, up = df['factorDown'], df['mean'], df['factorUp']\n",
    "    mean = normalize(mean, 165, 250)\n",
    "    down = float(down)/100\n",
    "    up = float(up)/100\n",
    "    return down, mean, up\n",
    "    \n",
    "\n",
    "for index, row in df.iterrows():\n",
    "    home, away, score = row['HomeTeam'], row['AwayTeam'], row['TotalScore']\n",
    "    df_h = stats_df.query(\"team == '{0}'\".format(home))\n",
    "    df_a = stats_df.query(\"team == '{0}'\".format(away))\n",
    "\n",
    "    h_down, h_mean, h_up = prepare_data(df_h)\n",
    "    a_down, a_mean, a_up = prepare_data(df_a)\n",
    "    \n",
    "    # Input for ML model\n",
    "    X = np.array([h_down, h_mean, h_up, a_up, a_mean, a_up])\n",
    "    # Expected result\n",
    "    y = normalize(score, 165, 250)   \n",
    "    \n",
    "    print('Training model with input:\\nX: {}\\nExpected output:\\ny: {}\\n\\n'.format(X, y))\n",
    "    \n",
    "    if index>=5:\n",
    "        break"
   ]
  },
  {
   "cell_type": "code",
   "execution_count": 13,
   "metadata": {},
   "outputs": [],
   "source": [
    "test_teams = ['team1', 'team2', 'team3']\n",
    "test_dict = dict()\n",
    "test_dict['team1'] = test_dict.get('team1', 0) + 1\n",
    "test_dict['team1'] = test_dict.get('team1', 0) + 1\n",
    "test_dict['team2'] = test_dict.get('team2', 0) + 1\n",
    "test_dict['team3'] = test_dict.get('team3', 0) + 1\n",
    "test_dict2 = dict()\n",
    "test_dict2['team1'] = test_dict2.get('team1', 0) + 1\n",
    "test_dict2['team1'] = test_dict2.get('team1', 0) + 1\n",
    "test_dict2['team2'] = test_dict2.get('team2', 0) + 1\n",
    "test_dict2['team3'] = test_dict2.get('team3', 0) + 1\n",
    "test_dict3 = dict()\n",
    "test_dict3['team1'] = test_dict3.get('team1', 0) + 1\n",
    "test_dict3['team1'] = test_dict3.get('team1', 0) + 1\n",
    "test_dict3['team2'] = test_dict3.get('team2', 0) + 1\n",
    "test_dict3['team3'] = test_dict3.get('team3', 0) + 10\n",
    "\n",
    "dict_list = [test_dict, test_dict2, test_dict3]\n",
    "\n",
    "for i in range(16):\n",
    "    dict_list.append({'team1': 6})"
   ]
  }
 ],
 "metadata": {
  "kernelspec": {
   "display_name": "Python 3",
   "language": "python",
   "name": "python3"
  },
  "language_info": {
   "codemirror_mode": {
    "name": "ipython",
    "version": 3
   },
   "file_extension": ".py",
   "mimetype": "text/x-python",
   "name": "python",
   "nbconvert_exporter": "python",
   "pygments_lexer": "ipython3",
   "version": "3.9.1"
  }
 },
 "nbformat": 4,
 "nbformat_minor": 4
}
