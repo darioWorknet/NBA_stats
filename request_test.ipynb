{
 "cells": [
  {
   "cell_type": "code",
   "execution_count": 1,
   "metadata": {},
   "outputs": [],
   "source": [
    "from selenium import webdriver\n",
    "import pandas as pd\n",
    "# import matplotlib\n",
    "import matplotlib.pyplot as plt\n",
    "import numpy as np\n",
    "import scipy.stats as stats\n",
    "import math\n",
    "import statistics\n",
    "import resources"
   ]
  },
  {
   "cell_type": "markdown",
   "metadata": {},
   "source": [
    "## Scrapping the data\n",
    "- Entering url and stracting data as a Pandas df\n",
    "- After scrapping the data, df will be stored as CSV file\n",
    "- If data has been already scrapped, data is stracted from CSV"
   ]
  },
  {
   "cell_type": "code",
   "execution_count": 2,
   "metadata": {},
   "outputs": [],
   "source": [
    "# Check if exist a .csv with filename equals to TODAY DATETIME\n",
    "if False:\n",
    "#     NON_DESIRED_TEAMS = ['Team Durant','Team LeBron']\n",
    "    # Getting data\n",
    "    df = resources.data_scraper.scrape()\n",
    "    # Filtering data\n",
    "#     df = df[df[df.columns[0]] != (NON_DESIRED_TEAMS[0] or NON_DESIRED_TEAMS[1])]\n",
    "#     df = df[df[df.columns[1]] != (NON_DESIRED_TEAMS[0] or NON_DESIRED_TEAMS[1])]\n",
    "    # Casting columns\n",
    "    df[df.columns[2]] = df[df.columns[2]].astype(np.int64)\n",
    "    df[df.columns[3]] = df[df.columns[3]].astype(np.int64)\n",
    "    # Adding total_score column\n",
    "    df[\"TotalScore\"] = df[df.columns[2]] + df[df.columns[3]]\n",
    "    # Store CSV\n",
    "    df.to_csv('data/11-04.csv', encoding='utf-8', index=False)\n",
    "else:\n",
    "    df = pd.read_csv('data/11-04.csv')"
   ]
  },
  {
   "cell_type": "code",
   "execution_count": 3,
   "metadata": {},
   "outputs": [
    {
     "data": {
      "text/plain": [
       "833"
      ]
     },
     "execution_count": 3,
     "metadata": {},
     "output_type": "execute_result"
    }
   ],
   "source": [
    "# NON_DESIRED_TEAMS = ['Team Durant','Team LeBron']\n",
    "# df = df[df[df.columns[0]] != (NON_DESIRED_TEAMS[0] or NON_DESIRED_TEAMS[1])]\n",
    "# df = df[df[df.columns[1]] != (NON_DESIRED_TEAMS[0] or NON_DESIRED_TEAMS[1])]\n",
    "len(df) # 833 for today"
   ]
  },
  {
   "cell_type": "markdown",
   "metadata": {},
   "source": [
    "#### Heatmap"
   ]
  },
  {
   "cell_type": "code",
   "execution_count": 5,
   "metadata": {},
   "outputs": [],
   "source": [
    "# resources.graph.heatmap(df, f_size=10, cmap=\"afmhot_r\",vmin=150, vmax=250)"
   ]
  },
  {
   "cell_type": "markdown",
   "metadata": {},
   "source": [
    "### Frecuency histogram\n",
    "- To know how many divisions or 'bins' should be done in the histogram, we must use Sturges law\n",
    "\n",
    "$$ c = 1 + \\dfrac{log(M)}{log(2)}$$"
   ]
  },
  {
   "cell_type": "code",
   "execution_count": null,
   "metadata": {},
   "outputs": [],
   "source": [
    "# resources.graph.frecuency_histogram(df)\n"
   ]
  },
  {
   "cell_type": "markdown",
   "metadata": {},
   "source": [
    "#### Boxplot"
   ]
  },
  {
   "cell_type": "code",
   "execution_count": null,
   "metadata": {},
   "outputs": [],
   "source": [
    "# plt.boxplot(df['TotalScore'])\n",
    "# plt.title(\"Total score distribution\")"
   ]
  },
  {
   "cell_type": "markdown",
   "metadata": {},
   "source": [
    "#### Normal dfistribution"
   ]
  },
  {
   "cell_type": "code",
   "execution_count": null,
   "metadata": {},
   "outputs": [],
   "source": [
    "# resources.graph.normal_distribution(df, 'Atlanta Hawks')"
   ]
  },
  {
   "cell_type": "markdown",
   "metadata": {},
   "source": [
    "## Data analysis\n",
    "- Analysing data\n",
    "- Store results in a new df"
   ]
  },
  {
   "cell_type": "code",
   "execution_count": 6,
   "metadata": {},
   "outputs": [],
   "source": [
    "stats_df = resources.nba_stats.stats(df)"
   ]
  },
  {
   "cell_type": "markdown",
   "metadata": {},
   "source": [
    "## Manually studying data"
   ]
  },
  {
   "cell_type": "code",
   "execution_count": 7,
   "metadata": {},
   "outputs": [],
   "source": [
    "conversion_dict = {\n",
    "    'ATL': 'Atlanta Hawks',\n",
    "    'BOS': 'Boston Celtics',\n",
    "    'BKN': 'Brooklyn Nets',\n",
    "    'CHA': 'Charlotte Hornets',\n",
    "    'CHI': 'Chicago Bulls',\n",
    "    'CLE': 'Cleveland Cavaliers',\n",
    "    'DAL': 'Dallas Mavericks',\n",
    "    'DEN': 'Denver Nuggets',\n",
    "    'DET': 'Detroit Pistons',\n",
    "    'GS': 'Golden State Warriors',\n",
    "    'HOU': 'Houston Rockets',\n",
    "    'IND': 'Indiana Pacers',\n",
    "    'LAC': 'Los Angeles Clippers',\n",
    "    'LAL': 'Los Angeles Lakers',\n",
    "    'MEM': 'Memphis Grizzlies',\n",
    "    'MIA': 'Miami Heat',\n",
    "    'MIL': 'Milwaukee Bucks',\n",
    "    'MIN': 'Minnesota Timberwolves',\n",
    "    'NO': 'New Orleans Pelicans',\n",
    "    'NY': 'New York Knicks',\n",
    "    'OKC': 'Oklahoma City Thunder',\n",
    "    'ORL': 'Orlando Magic',\n",
    "    'PHX': 'Phoenix Suns',\n",
    "    'PHI': 'Philadelphia 76ers',\n",
    "    'POR': 'Portland Trail Blazers',\n",
    "    'SAC': 'Sacramento Kings',\n",
    "    'SA': 'San Antonio Spurs',\n",
    "    'TOR': 'Toronto Raptors',\n",
    "    'UTA': 'Utah Jazz',\n",
    "    'WAS': 'Washington Wizards'\n",
    "}"
   ]
  },
  {
   "cell_type": "code",
   "execution_count": 8,
   "metadata": {},
   "outputs": [
    {
     "name": "stdout",
     "output_type": "stream",
     "text": [
      "                 team        mean  factorDown   factorUp\n",
      "10      Atlanta Hawks  225.350877    7.017544  10.526316\n",
      "29  Charlotte Hornets  223.163636   10.909091   9.090909\n",
      "\n",
      "\n",
      "\n",
      "              team        mean  factorDown  factorUp\n",
      "8   Denver Nuggets  225.327273    5.454545  7.272727\n",
      "12  Boston Celtics  222.600000   10.909091  7.272727\n",
      "\n",
      "\n",
      "\n",
      "               team        mean  factorDown   factorUp\n",
      "9   Milwaukee Bucks  232.218182    1.818182  21.818182\n",
      "14    Orlando Magic  217.357143   12.500000   1.785714\n",
      "\n",
      "\n",
      "\n",
      "                    team        mean  factorDown   factorUp\n",
      "6    Cleveland Cavaliers  214.589286   25.000000   7.142857\n",
      "11  New Orleans Pelicans  229.481481    9.259259  20.370370\n",
      "\n",
      "\n",
      "\n",
      "                      team        mean  factorDown   factorUp\n",
      "21  Minnesota Timberwolves  228.196429    5.357143  16.071429\n",
      "24           Chicago Bulls  225.472727    3.636364  16.363636\n",
      "\n",
      "\n",
      "\n",
      "                 team        mean  factorDown   factorUp\n",
      "20     Indiana Pacers  226.129630    9.259259  16.666667\n",
      "27  Memphis Grizzlies  224.555556    7.407407  14.814815\n",
      "\n",
      "\n",
      "\n",
      "                 team        mean  factorDown   factorUp\n",
      "16   Dallas Mavericks  221.796296   16.666667  11.111111\n",
      "22  San Antonio Spurs  222.528302   16.981132   5.660377\n",
      "\n",
      "\n",
      "\n",
      "               team        mean  factorDown  factorUp\n",
      "13  New York Knicks  208.508772   38.596491  5.263158\n",
      "18  Toronto Raptors  223.839286    8.928571  8.928571\n",
      "\n",
      "\n",
      "\n",
      "                    team        mean  factorDown  factorUp\n",
      "7   Los Angeles Clippers  222.210526   10.526316  5.263158\n",
      "25       Detroit Pistons  216.403509   15.789474  8.771930\n",
      "\n",
      "\n",
      "\n",
      "                      team        mean  factorDown   factorUp\n",
      "2   Portland Trail Blazers  229.767857    3.571429  14.285714\n",
      "17              Miami Heat  213.962963   22.222222   3.703704\n",
      "\n",
      "\n",
      "\n"
     ]
    }
   ],
   "source": [
    "future_games = [\n",
    "    ['ATL', 'CHA'],\n",
    "    ['BOS', 'DEN'],\n",
    "    ['MIL', 'ORL'],\n",
    "    ['NO', 'CLE'],\n",
    "    ['CHI', 'MIN'],\n",
    "    ['IND', 'MEM'],\n",
    "    ['SA', 'DAL'],\n",
    "    ['TOR', 'NY'],\n",
    "    ['DET', 'LAC'],\n",
    "    ['MIA', 'POR'],    \n",
    "]\n",
    "\n",
    "games_converted = list()\n",
    "               \n",
    "for game in future_games:\n",
    "    home_team = conversion_dict[game[0]]\n",
    "    away_team = conversion_dict[game[1]]\n",
    "    game_ = [home_team, away_team]\n",
    "    games_converted.append(game_)\n",
    "    \n",
    "for game in games_converted:\n",
    "    df_ = stats_df.query(\"team == '{0}' or team == '{1}'\".format(game[0], game[1]))\n",
    "#     print(df_)\n",
    "    print(df_.iloc[:,[0,1,4,5]])\n",
    "    print(\"\\n\\n\")\n",
    "        "
   ]
  },
  {
   "cell_type": "markdown",
   "metadata": {},
   "source": [
    "## Training model"
   ]
  },
  {
   "cell_type": "code",
   "execution_count": null,
   "metadata": {},
   "outputs": [],
   "source": [
    "def normalize(x, min_, max_):\n",
    "    x = float(x)\n",
    "    if x >= max_:\n",
    "        return 1\n",
    "    elif x <= min_:\n",
    "        return 0\n",
    "    return (x - min_) / (float(max_) - min_)\n",
    "\n",
    "def denormalize(z, min_, max_):\n",
    "    return z * (max_ - min_) + min_\n",
    "    \n",
    "\n",
    "def prepare_data(df):\n",
    "    down, mean, up = df['factorDown'], df['mean'], df['factorUp']\n",
    "    mean = normalize(mean, 165, 250)\n",
    "    down = float(down)/100\n",
    "    up = float(up)/100\n",
    "    return down, mean, up\n",
    "    \n",
    "\n",
    "for index, row in df.iterrows():\n",
    "    home, away, score = row['HomeTeam'], row['AwayTeam'], row['TotalScore']\n",
    "    df_h = stats_df.query(\"team == '{0}'\".format(home))\n",
    "    df_a = stats_df.query(\"team == '{0}'\".format(away))\n",
    "\n",
    "    h_down, h_mean, h_up = prepare_data(df_h)\n",
    "    a_down, a_mean, a_up = prepare_data(df_a)\n",
    "    \n",
    "    # Input for ML model\n",
    "    X = np.array([h_down, h_mean, h_up, a_up, a_mean, a_up])\n",
    "    # Expected result\n",
    "    y = normalize(score, 165, 250)   \n",
    "    \n",
    "    print('Training model with input:\\nX: {}\\nExpected output:\\ny: {}\\n\\n'.format(X, y))\n",
    "    \n",
    "    if index>=5:\n",
    "        break"
   ]
  }
 ],
 "metadata": {
  "kernelspec": {
   "display_name": "Python 3",
   "language": "python",
   "name": "python3"
  },
  "language_info": {
   "codemirror_mode": {
    "name": "ipython",
    "version": 3
   },
   "file_extension": ".py",
   "mimetype": "text/x-python",
   "name": "python",
   "nbconvert_exporter": "python",
   "pygments_lexer": "ipython3",
   "version": "3.8.5"
  }
 },
 "nbformat": 4,
 "nbformat_minor": 4
}
