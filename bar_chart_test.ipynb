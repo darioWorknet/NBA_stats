{
 "cells": [
  {
   "cell_type": "code",
   "execution_count": 1,
   "id": "informal-spine",
   "metadata": {},
   "outputs": [],
   "source": [
    "import pandas as pd\n",
    "import matplotlib.pyplot as plt\n",
    "import Barchart"
   ]
  },
  {
   "cell_type": "code",
   "execution_count": 10,
   "id": "parental-creativity",
   "metadata": {},
   "outputs": [],
   "source": [
    "a = ['A', 'B', 120, 102]\n",
    "b = ['C', 'A', 140, 102]\n",
    "c = ['D', 'A', 80, 102]\n",
    "d = ['A', 'E', 10, 102]\n",
    "e = ['F', 'A', 130, 100]\n",
    "f = ['G', 'A', 120, 120]\n",
    "g = ['A', 'H', 100, 192]\n",
    "\n",
    "cols = ['col1', 'col2', 'col3', 'col4']\n",
    "\n",
    "df = pd.DataFrame([a,b,c,d,e,f,g], columns=cols)"
   ]
  },
  {
   "cell_type": "code",
   "execution_count": 11,
   "id": "binary-lover",
   "metadata": {},
   "outputs": [
    {
     "data": {
      "image/png": "[encoded data removed]",
      "text/plain": [
       "<Figure size 432x288 with 1 Axes>"
      ]
     },
     "metadata": {
      "needs_background": "light"
     },
     "output_type": "display_data"
    },
    {
     "data": {
      "text/plain": [
       "(['E', 'D', 'B', 'F', 'G', 'C', 'H'], [112, 182, 222, 230, 240, 242, 292])"
      ]
     },
     "execution_count": 11,
     "metadata": {},
     "output_type": "execute_result"
    }
   ],
   "source": [
    "Barchart.barchart_order(df, \"A\")\n"
   ]
  }
 ],
 "metadata": {
  "kernelspec": {
   "display_name": "Python 3",
   "language": "python",
   "name": "python3"
  },
  "language_info": {
   "codemirror_mode": {
    "name": "ipython",
    "version": 3
   },
   "file_extension": ".py",
   "mimetype": "text/x-python",
   "name": "python",
   "nbconvert_exporter": "python",
   "pygments_lexer": "ipython3",
   "version": "3.9.1"
  }
 },
 "nbformat": 4,
 "nbformat_minor": 5
}
