{
 "cells": [
  {
   "cell_type": "code",
   "execution_count": 1,
   "id": "informal-spine",
   "metadata": {},
   "outputs": [],
   "source": [
    "import pandas as pd\n",
    "import matplotlib.pyplot as plt\n",
    "import barchart"
   ]
  },
  {
   "cell_type": "code",
   "execution_count": 2,
   "id": "parental-creativity",
   "metadata": {},
   "outputs": [],
   "source": [
    "a = ['A', 'B', 120, 102]\n",
    "b = ['G', 'A', 140, 102]\n",
    "c = ['Z', 'A', 80, 102]\n",
    "d = ['A', 'F', 10, 102]\n",
    "\n",
    "cols = ['col1', 'col2', 'col3', 'col4']\n",
    "\n",
    "df = pd.DataFrame([a,b,c,d], columns=cols)"
   ]
  },
  {
   "cell_type": "code",
   "execution_count": 3,
   "id": "binary-lover",
   "metadata": {},
   "outputs": [
    {
     "data": {
      "image/png": "[encoded data removed]",
      "text/plain": [
       "<Figure size 432x288 with 1 Axes>"
      ]
     },
     "metadata": {
      "needs_background": "light"
     },
     "output_type": "display_data"
    },
    {
     "data": {
      "text/plain": [
       "(['F', 'Z', 'B', 'G'], [112, 182, 222, 242])"
      ]
     },
     "execution_count": 3,
     "metadata": {},
     "output_type": "execute_result"
    }
   ],
   "source": [
    "barchart.barchart_order(df, \"A\")\n"
   ]
  }
 ],
 "metadata": {
  "kernelspec": {
   "display_name": "Python 3",
   "language": "python",
   "name": "python3"
  },
  "language_info": {
   "codemirror_mode": {
    "name": "ipython",
    "version": 3
   },
   "file_extension": ".py",
   "mimetype": "text/x-python",
   "name": "python",
   "nbconvert_exporter": "python",
   "pygments_lexer": "ipython3",
   "version": "3.9.1"
  }
 },
 "nbformat": 4,
 "nbformat_minor": 5
}
