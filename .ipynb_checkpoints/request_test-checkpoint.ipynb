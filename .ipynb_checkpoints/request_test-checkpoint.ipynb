{
 "cells": [
  {
   "cell_type": "code",
   "execution_count": 1,
   "metadata": {},
   "outputs": [],
   "source": [
    "from selenium import webdriver\n",
    "import pandas as pd\n",
    "# import matplotlib\n",
    "import matplotlib.pyplot as plt\n",
    "import numpy as np\n",
    "import scipy.stats as stats\n",
    "import math\n",
    "import statistics\n",
    "import resources"
   ]
  },
  {
   "cell_type": "markdown",
   "metadata": {},
   "source": [
    "## Scrapping the data\n",
    "- Entering url and stracting data as a Pandas df\n",
    "- After scrapping the data, df will be stored as CSV file\n",
    "- If data has been already scrapped, data is stracted from CSV"
   ]
  },
  {
   "cell_type": "code",
   "execution_count": 2,
   "metadata": {},
   "outputs": [],
   "source": [
    "# Check if exist a .csv with filename equals to TODAY DATETIME\n",
    "if False:\n",
    "    NON_DESIRED_TEAMS = ['Team Durant','Team LeBron']\n",
    "    # Getting data\n",
    "    df = resources.data_scraper.scrape()\n",
    "    # Filtering data\n",
    "    df = df[df[df.columns[0]] != (NON_DESIRED_TEAMS[0] or NON_DESIRED_TEAMS[1])]\n",
    "    df = df[df[df.columns[1]] != (NON_DESIRED_TEAMS[0] or NON_DESIRED_TEAMS[1])]\n",
    "    # Casting columns\n",
    "    df[df.columns[2]] = df[df.columns[2]].astype(np.int64)\n",
    "    df[df.columns[3]] = df[df.columns[3]].astype(np.int64)\n",
    "    # Adding total_score column\n",
    "    df[\"TotalScore\"] = df[df.columns[2]] + df[df.columns[3]]\n",
    "    # Store CSV\n",
    "    df.to_csv('11-04.csv', encoding='utf-8', index=False)\n",
    "else:\n",
    "    df = pd.read_csv('11-04.csv')"
   ]
  },
  {
   "cell_type": "markdown",
   "metadata": {},
   "source": [
    "## Heatmap"
   ]
  },
  {
   "cell_type": "code",
   "execution_count": null,
   "metadata": {},
   "outputs": [],
   "source": [
    "resources.graph.heatmap(df, f_size=10, cmap=\"afmhot_r\",vmin=150, vmax=250)"
   ]
  },
  {
   "cell_type": "markdown",
   "metadata": {},
   "source": [
    "## Barchar for a single team"
   ]
  },
  {
   "cell_type": "code",
   "execution_count": null,
   "metadata": {},
   "outputs": [],
   "source": [
    "# Barchar for a single team\n",
    "# y_range = [200, 280]\n",
    "# resources.barchart.barchart(df, \"Utah Jazz\", y_range, order=True)"
   ]
  },
  {
   "cell_type": "markdown",
   "metadata": {},
   "source": [
    "## Frecuency histogram\n",
    "- To know how many divisions or 'bins' should be done in the histogram, we must use Sturges law\n",
    "\n",
    "$$ c = 1 + \\dfrac{log(M)}{log(2)}$$"
   ]
  },
  {
   "cell_type": "code",
   "execution_count": 6,
   "metadata": {},
   "outputs": [
    {
     "data": {
      "text/plain": [
       "Text(0.5, 1.0, 'Total score distribution')"
      ]
     },
     "execution_count": 6,
     "metadata": {},
     "output_type": "execute_result"
    },
    {
     "data": {
      "image/png": "[encoded data removed]",
      "text/plain": [
       "<Figure size 432x288 with 1 Axes>"
      ]
     },
     "metadata": {
      "needs_background": "light"
     },
     "output_type": "display_data"
    }
   ],
   "source": [
    "# sturges = int(1 + np.log2(len(df)))\n",
    "# plt.hist(df[\"TotalScore\"], bins=sturges)\n",
    "# plt.xlabel(\"Score per match\")\n",
    "# plt.ylabel(\"Frecuency\")\n",
    "# plt.title(\"Total score distribution\")\n",
    "\n",
    "resources.graph.frecuency_histogram(df)\n"
   ]
  },
  {
   "cell_type": "markdown",
   "metadata": {},
   "source": [
    "## Boxplot"
   ]
  },
  {
   "cell_type": "code",
   "execution_count": null,
   "metadata": {},
   "outputs": [],
   "source": [
    "# plt.boxplot(df['total_score'])\n",
    "# plt.title(\"Total score distribution\")"
   ]
  },
  {
   "cell_type": "code",
   "execution_count": null,
   "metadata": {},
   "outputs": [],
   "source": [
    "# # Getting data\n",
    "# x = df['TotalScore']\n",
    "# # Calculating mean and standard deviation\n",
    "# mean = statistics.mean(x)\n",
    "# sd = statistics.stdev(x)\n",
    "\n",
    "# plt.plot(x, stats.norm.pdf(x, mean, sd))\n",
    "# plt.show()"
   ]
  },
  {
   "cell_type": "markdown",
   "metadata": {},
   "source": [
    "## Normal dfistribution"
   ]
  },
  {
   "cell_type": "code",
   "execution_count": 4,
   "metadata": {},
   "outputs": [],
   "source": [
    "# resources.graph.normal_distribution(df, 'Atlanta Hawks')"
   ]
  },
  {
   "cell_type": "markdown",
   "metadata": {},
   "source": [
    "## Data analysis\n",
    "- Analysing data\n",
    "- Store results in a new df"
   ]
  },
  {
   "cell_type": "code",
   "execution_count": null,
   "metadata": {},
   "outputs": [],
   "source": [
    "stats_df = resources.nba_stats.stats(df)"
   ]
  },
  {
   "cell_type": "markdown",
   "metadata": {},
   "source": [
    "## Manually studying data"
   ]
  },
  {
   "cell_type": "code",
   "execution_count": null,
   "metadata": {},
   "outputs": [],
   "source": [
    "conversion_dict = {\n",
    "    'ATL': 'Atlanta Hawks',\n",
    "    'BOS': 'Boston Celtics',\n",
    "    'BKN': 'Brooklyn Nets',\n",
    "    'CHA': 'Charlotte Hornets',\n",
    "    'CHI': 'Chicago Bulls',\n",
    "    'CLE': 'Cleveland Cavaliers',\n",
    "    'DAL': 'Dallas Mavericks',\n",
    "    'DEN': 'Denver Nuggets',\n",
    "    'DET': 'Detroit Pistons',\n",
    "    'GS': 'Golden State Warriors',\n",
    "    'HOU': 'Houston Rockets',\n",
    "    'IND': 'Indiana Pacers',\n",
    "    'LAC': 'Los Angeles Clippers',\n",
    "    'LAL': 'Los Angeles Lakers',\n",
    "    'MEM': 'Memphis Grizzlies',\n",
    "    'MIA': 'Miami Heat',\n",
    "    'MIL': 'Milwaukee Bucks',\n",
    "    'MIN': 'Minnesota Timberwolves',\n",
    "    'NO': 'New Orleans Pelicans',\n",
    "    'NY': 'New York Knicks',\n",
    "    'OKC': 'Oklahoma City Thunder',\n",
    "    'ORL': 'Orlando Magic',\n",
    "    'PHX': 'Phoenix Suns',\n",
    "    'PHI': 'Philadelphia 76ers',\n",
    "    'POR': 'Portland Trail Blazers',\n",
    "    'SAC': 'Sacramento Kings',\n",
    "    'SA': 'San Antonio Spurs',\n",
    "    'TOR': 'Toronto Raptors',\n",
    "    'UTA': 'Utah Jazz',\n",
    "    'WAS': 'Washington Wizards'\n",
    "}"
   ]
  },
  {
   "cell_type": "code",
   "execution_count": null,
   "metadata": {},
   "outputs": [],
   "source": [
    "games_today = [\n",
    "    ['TOR', 'CLE'],\n",
    "    ['LAL', 'BKN'],\n",
    "    ['PHI', 'OKC'],\n",
    "    ['SAC', 'UTA'],\n",
    "    ['DET', 'POR'],\n",
    "    ['HOU', 'GS'],\n",
    "    ['WAS', 'PHX'],\n",
    "    ['ATL', 'CHA'],\n",
    "    ['BOS', 'DEN'],\n",
    "    ['MIL', 'ORL'],\n",
    "    ['NO', 'CLE'],\n",
    "    ['CHI', 'MIN'],\n",
    "    ['IND', 'MEM'],\n",
    "    ['SA', 'DAL'],\n",
    "    ['TOR', 'NY'],\n",
    "    ['DET', 'LAC'],\n",
    "    ['MIA', 'POR'],\n",
    "    ['GS', 'WAS'],\n",
    "    ['LAC', 'HOU'],\n",
    "    ['DEN', 'SA'],\n",
    "    ['MIL', 'CHA']\n",
    "    \n",
    "]\n",
    "\n",
    "games_converted = list()\n",
    "               \n",
    "for game in games_today:\n",
    "    home_team = conversion_dict[game[0]]\n",
    "    away_team = conversion_dict[game[1]]\n",
    "    game_ = [home_team, away_team]\n",
    "    games_converted.append(game_)\n",
    "    \n",
    "for game in games_converted:\n",
    "    df_ = stats_df.query(\"team == '{0}' or team == '{1}'\".format(game[0], game[1]))\n",
    "#     print(df_)\n",
    "    print(df_.iloc[:,[0,1,4,5]])\n",
    "    print(\"\\n\\n\")\n",
    "        "
   ]
  },
  {
   "cell_type": "markdown",
   "metadata": {},
   "source": [
    "## Training model"
   ]
  },
  {
   "cell_type": "code",
   "execution_count": null,
   "metadata": {},
   "outputs": [],
   "source": [
    "def normalize(x, min_, max_):\n",
    "    x = float(x)\n",
    "    if x >= max_:\n",
    "        return 1\n",
    "    elif x <= min_:\n",
    "        return 0\n",
    "    return (x - min_) / (float(max_) - min_)\n",
    "\n",
    "def denormalize(z, min_, max_):\n",
    "    return z * (max_ - min_) + min_\n",
    "    \n",
    "\n",
    "def prepare_data(df):\n",
    "    down, mean, up = df['factorDown'], df['mean'], df['factorUp']\n",
    "    mean = normalize(mean, 165, 250)\n",
    "    down = float(down)/100\n",
    "    up = float(up)/100\n",
    "    return down, mean, up\n",
    "    \n",
    "\n",
    "for index, row in df.iterrows():\n",
    "    home, away, score = row['HomeTeam'], row['AwayTeam'], row['TotalScore']\n",
    "    df_h = stats_df.query(\"team == '{0}'\".format(home))\n",
    "    df_a = stats_df.query(\"team == '{0}'\".format(away))\n",
    "\n",
    "    h_down, h_mean, h_up = prepare_data(df_h)\n",
    "    a_down, a_mean, a_up = prepare_data(df_a)\n",
    "    \n",
    "    # Input for ML model\n",
    "    X = np.array([h_down, h_mean, h_up, a_up, a_mean, a_up])\n",
    "    # Expected result\n",
    "    y = normalize(score, 165, 250)   \n",
    "    \n",
    "    print('Training model with input:\\nX: {}\\nExpected output:\\ny: {}\\n\\n'.format(X, y))\n",
    "    \n",
    "    if index>=5:\n",
    "        break"
   ]
  }
 ],
 "metadata": {
  "kernelspec": {
   "display_name": "Python 3",
   "language": "python",
   "name": "python3"
  },
  "language_info": {
   "codemirror_mode": {
    "name": "ipython",
    "version": 3
   },
   "file_extension": ".py",
   "mimetype": "text/x-python",
   "name": "python",
   "nbconvert_exporter": "python",
   "pygments_lexer": "ipython3",
   "version": "3.8.5"
  }
 },
 "nbformat": 4,
 "nbformat_minor": 4
}
