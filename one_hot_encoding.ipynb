{
 "cells": [
  {
   "cell_type": "code",
   "execution_count": 1,
   "metadata": {},
   "outputs": [],
   "source": [
    "from selenium import webdriver\n",
    "import pandas as pd\n",
    "# import matplotlib\n",
    "import seaborn as sns # visualization\n",
    "import matplotlib.pyplot as plt\n",
    "import numpy as np\n",
    "import scipy.stats as stats\n",
    "import math\n",
    "import statistics\n",
    "import resources # custom libraries\n",
    "import numpy as np\n",
    "from tensorflow import keras\n",
    "import tensorflow as tf\n",
    "from datetime import datetime"
   ]
  },
  {
   "cell_type": "markdown",
   "metadata": {},
   "source": [
    "## Scrapping the data\n",
    "- Entering url and stracting data as a Pandas df\n",
    "- After scrapping the data, df will be stored as CSV file\n",
    "- If data has been already scrapped, data is stracted from CSV"
   ]
  },
  {
   "cell_type": "code",
   "execution_count": 2,
   "metadata": {},
   "outputs": [],
   "source": [
    "training = False\n",
    "\n",
    "if training:\n",
    "    today = str(datetime.today().strftime('%d-%m'))\n",
    "    # Getting data\n",
    "    df = resources.data_scraper.scrape()\n",
    "    # Casting columns\n",
    "    df[df.columns[2]] = df[df.columns[2]].astype(np.int64)\n",
    "    df[df.columns[3]] = df[df.columns[3]].astype(np.int64)\n",
    "    # Adding total_score column\n",
    "    df[\"TotalScore\"] = df[df.columns[2]] + df[df.columns[3]]\n",
    "    # Store CSV\n",
    "    df.to_csv('data/{}.csv'.format(today), encoding='utf-8', index=False)\n",
    "else:\n",
    "    today = '02-05'\n",
    "    df = pd.read_csv('data/{}.csv'.format(today))"
   ]
  },
  {
   "cell_type": "code",
   "execution_count": 3,
   "metadata": {},
   "outputs": [
    {
     "data": {
      "text/html": [
       "<div>\n",
       "<style scoped>\n",
       "    .dataframe tbody tr th:only-of-type {\n",
       "        vertical-align: middle;\n",
       "    }\n",
       "\n",
       "    .dataframe tbody tr th {\n",
       "        vertical-align: top;\n",
       "    }\n",
       "\n",
       "    .dataframe thead th {\n",
       "        text-align: right;\n",
       "    }\n",
       "</style>\n",
       "<table border=\"1\" class=\"dataframe\">\n",
       "  <thead>\n",
       "    <tr style=\"text-align: right;\">\n",
       "      <th></th>\n",
       "      <th>HomeTeam</th>\n",
       "      <th>AwayTeam</th>\n",
       "      <th>ScoreHome</th>\n",
       "      <th>ScoreAway</th>\n",
       "      <th>TotalScore</th>\n",
       "    </tr>\n",
       "  </thead>\n",
       "  <tbody>\n",
       "    <tr>\n",
       "      <th>0</th>\n",
       "      <td>Los Angeles Clippers</td>\n",
       "      <td>Denver Nuggets</td>\n",
       "      <td>104</td>\n",
       "      <td>110</td>\n",
       "      <td>214</td>\n",
       "    </tr>\n",
       "    <tr>\n",
       "      <th>1</th>\n",
       "      <td>Utah Jazz</td>\n",
       "      <td>Toronto Raptors</td>\n",
       "      <td>106</td>\n",
       "      <td>102</td>\n",
       "      <td>208</td>\n",
       "    </tr>\n",
       "    <tr>\n",
       "      <th>2</th>\n",
       "      <td>Dallas Mavericks</td>\n",
       "      <td>Washington Wizards</td>\n",
       "      <td>125</td>\n",
       "      <td>124</td>\n",
       "      <td>249</td>\n",
       "    </tr>\n",
       "    <tr>\n",
       "      <th>3</th>\n",
       "      <td>Atlanta Hawks</td>\n",
       "      <td>Chicago Bulls</td>\n",
       "      <td>108</td>\n",
       "      <td>97</td>\n",
       "      <td>205</td>\n",
       "    </tr>\n",
       "    <tr>\n",
       "      <th>4</th>\n",
       "      <td>Cleveland Cavaliers</td>\n",
       "      <td>Miami Heat</td>\n",
       "      <td>107</td>\n",
       "      <td>124</td>\n",
       "      <td>231</td>\n",
       "    </tr>\n",
       "  </tbody>\n",
       "</table>\n",
       "</div>"
      ],
      "text/plain": [
       "               HomeTeam            AwayTeam  ScoreHome  ScoreAway  TotalScore\n",
       "0  Los Angeles Clippers      Denver Nuggets        104        110         214\n",
       "1             Utah Jazz     Toronto Raptors        106        102         208\n",
       "2      Dallas Mavericks  Washington Wizards        125        124         249\n",
       "3         Atlanta Hawks       Chicago Bulls        108         97         205\n",
       "4   Cleveland Cavaliers          Miami Heat        107        124         231"
      ]
     },
     "execution_count": 3,
     "metadata": {},
     "output_type": "execute_result"
    }
   ],
   "source": [
    "df.head()"
   ]
  },
  {
   "cell_type": "markdown",
   "metadata": {},
   "source": [
    "#### Heatmap"
   ]
  },
  {
   "cell_type": "code",
   "execution_count": 4,
   "metadata": {},
   "outputs": [],
   "source": [
    "# resources.graph.heatmap(df, f_size=10, cmap=\"afmhot_r\",vmin=150, vmax=250)"
   ]
  },
  {
   "cell_type": "markdown",
   "metadata": {},
   "source": [
    "### Frecuency histogram\n",
    "- To know how many divisions or 'bins' should be done in the histogram, we must use Sturges law\n",
    "\n",
    "$$ c = 1 + \\dfrac{log(M)}{log(2)}$$"
   ]
  },
  {
   "cell_type": "code",
   "execution_count": 5,
   "metadata": {},
   "outputs": [],
   "source": [
    "# resources.graph.frecuency_histogram(df)\n"
   ]
  },
  {
   "cell_type": "markdown",
   "metadata": {},
   "source": [
    "#### Boxplot"
   ]
  },
  {
   "cell_type": "code",
   "execution_count": 6,
   "metadata": {},
   "outputs": [],
   "source": [
    "# plt.boxplot(df['TotalScore'])\n",
    "# plt.title(\"Total score distribution\")"
   ]
  },
  {
   "cell_type": "markdown",
   "metadata": {},
   "source": [
    "#### Normal dfistribution"
   ]
  },
  {
   "cell_type": "code",
   "execution_count": 7,
   "metadata": {},
   "outputs": [],
   "source": [
    "# resources.graph.normal_distribution(df, 'Atlanta Hawks')"
   ]
  },
  {
   "cell_type": "markdown",
   "metadata": {},
   "source": [
    "## Data analysis\n",
    "- Analysing data\n",
    "- Store results in a new df"
   ]
  },
  {
   "cell_type": "code",
   "execution_count": 8,
   "metadata": {},
   "outputs": [
    {
     "data": {
      "text/html": [
       "<div>\n",
       "<style scoped>\n",
       "    .dataframe tbody tr th:only-of-type {\n",
       "        vertical-align: middle;\n",
       "    }\n",
       "\n",
       "    .dataframe tbody tr th {\n",
       "        vertical-align: top;\n",
       "    }\n",
       "\n",
       "    .dataframe thead th {\n",
       "        text-align: right;\n",
       "    }\n",
       "</style>\n",
       "<table border=\"1\" class=\"dataframe\">\n",
       "  <thead>\n",
       "    <tr style=\"text-align: right;\">\n",
       "      <th></th>\n",
       "      <th>team</th>\n",
       "      <th>mean</th>\n",
       "      <th>P25</th>\n",
       "      <th>P75</th>\n",
       "      <th>factorDown</th>\n",
       "      <th>factorUp</th>\n",
       "      <th>WfactorDown</th>\n",
       "      <th>WfactorUp</th>\n",
       "    </tr>\n",
       "  </thead>\n",
       "  <tbody>\n",
       "    <tr>\n",
       "      <th>0</th>\n",
       "      <td>Los Angeles Clippers</td>\n",
       "      <td>222.132353</td>\n",
       "      <td>210.00</td>\n",
       "      <td>234.00</td>\n",
       "      <td>8.823529</td>\n",
       "      <td>8.823529</td>\n",
       "      <td>61.438762</td>\n",
       "      <td>53.889101</td>\n",
       "    </tr>\n",
       "    <tr>\n",
       "      <th>1</th>\n",
       "      <td>Utah Jazz</td>\n",
       "      <td>222.703125</td>\n",
       "      <td>208.00</td>\n",
       "      <td>235.25</td>\n",
       "      <td>7.812500</td>\n",
       "      <td>9.375000</td>\n",
       "      <td>24.282383</td>\n",
       "      <td>63.549351</td>\n",
       "    </tr>\n",
       "    <tr>\n",
       "      <th>2</th>\n",
       "      <td>Dallas Mavericks</td>\n",
       "      <td>221.859375</td>\n",
       "      <td>209.75</td>\n",
       "      <td>236.00</td>\n",
       "      <td>14.062500</td>\n",
       "      <td>10.937500</td>\n",
       "      <td>97.527389</td>\n",
       "      <td>115.524310</td>\n",
       "    </tr>\n",
       "    <tr>\n",
       "      <th>3</th>\n",
       "      <td>Atlanta Hawks</td>\n",
       "      <td>222.323077</td>\n",
       "      <td>209.00</td>\n",
       "      <td>234.00</td>\n",
       "      <td>7.692308</td>\n",
       "      <td>6.153846</td>\n",
       "      <td>24.102487</td>\n",
       "      <td>83.719822</td>\n",
       "    </tr>\n",
       "    <tr>\n",
       "      <th>4</th>\n",
       "      <td>Cleveland Cavaliers</td>\n",
       "      <td>213.123077</td>\n",
       "      <td>198.00</td>\n",
       "      <td>226.00</td>\n",
       "      <td>23.076923</td>\n",
       "      <td>3.076923</td>\n",
       "      <td>152.290171</td>\n",
       "      <td>7.896327</td>\n",
       "    </tr>\n",
       "  </tbody>\n",
       "</table>\n",
       "</div>"
      ],
      "text/plain": [
       "                   team        mean     P25     P75  factorDown   factorUp  \\\n",
       "0  Los Angeles Clippers  222.132353  210.00  234.00    8.823529   8.823529   \n",
       "1             Utah Jazz  222.703125  208.00  235.25    7.812500   9.375000   \n",
       "2      Dallas Mavericks  221.859375  209.75  236.00   14.062500  10.937500   \n",
       "3         Atlanta Hawks  222.323077  209.00  234.00    7.692308   6.153846   \n",
       "4   Cleveland Cavaliers  213.123077  198.00  226.00   23.076923   3.076923   \n",
       "\n",
       "   WfactorDown   WfactorUp  \n",
       "0    61.438762   53.889101  \n",
       "1    24.282383   63.549351  \n",
       "2    97.527389  115.524310  \n",
       "3    24.102487   83.719822  \n",
       "4   152.290171    7.896327  "
      ]
     },
     "execution_count": 8,
     "metadata": {},
     "output_type": "execute_result"
    }
   ],
   "source": [
    "stats_df = resources.nba_stats.stats(df)\n",
    "stats_df.head()"
   ]
  },
  {
   "cell_type": "markdown",
   "metadata": {},
   "source": [
    "Correlation analysis"
   ]
  },
  {
   "cell_type": "code",
   "execution_count": 9,
   "metadata": {},
   "outputs": [],
   "source": [
    "# x_col = \"factorDown\"\n",
    "# y_col = \"factorUp\"\n",
    "# z_col = \"mean\"\n",
    "\n",
    "# # fig, axs = plt.subplots(2, 2, sharex=True, sharey=True)\n",
    "# sub_df = stats_df.loc[:, [x_col, y_col, z_col]]\n",
    "# # sub_df.drop_duplicates(subset=x_col, inplace=True)\n",
    "# # sub_df.drop_duplicates(subset=y_col, inplace=True)\n",
    "# pivoted = sub_df.pivot(x_col, y_col, z_col)\n",
    "\n",
    "# ax = sns.heatmap(pivoted)\n",
    "\n",
    "# plt.tight_layout()\n",
    "# plt.show()"
   ]
  },
  {
   "cell_type": "markdown",
   "metadata": {},
   "source": [
    "## Training model"
   ]
  },
  {
   "cell_type": "code",
   "execution_count": 10,
   "metadata": {},
   "outputs": [],
   "source": [
    "def replace_teams(df, stats_df):\n",
    "    merged = pd.merge(left=df.iloc[:, :2], right=stats_df, how='inner',\n",
    "                     left_on='HomeTeam', right_on='team')\n",
    "\n",
    "    merged = pd.merge(left=merged, right=stats_df, how='inner',\n",
    "                     left_on='AwayTeam', right_on='team')\n",
    "\n",
    "    X = merged.iloc[:, np.r_[6:10, 11:18]]\n",
    "\n",
    "    X = X.iloc[:, [0,1,2   ,7,8,9]]\n",
    "    return X"
   ]
  },
  {
   "cell_type": "code",
   "execution_count": 11,
   "metadata": {},
   "outputs": [],
   "source": [
    "from sklearn.preprocessing import OneHotEncoder\n",
    "ohe = OneHotEncoder()\n",
    "ohe.fit(df[['TotalScore']])\n",
    "\n",
    "\n",
    "X = replace_teams(df, stats_df)\n",
    "\n",
    "y = pd.get_dummies(df['TotalScore'], prefix='score')\n",
    "y = ohe.transform(df[['TotalScore']]).toarray()"
   ]
  },
  {
   "cell_type": "code",
   "execution_count": 12,
   "metadata": {},
   "outputs": [],
   "source": [
    "from sklearn.preprocessing import MinMaxScaler, normalize\n",
    "x_scaler = MinMaxScaler().fit(X)\n",
    "\n",
    "if training:# Normalize data\n",
    "    X_norm = x_scaler.transform(X)"
   ]
  },
  {
   "cell_type": "code",
   "execution_count": 13,
   "metadata": {},
   "outputs": [],
   "source": [
    "if training: # Create training and validations sets\n",
    "    from sklearn.model_selection import train_test_split\n",
    "    X_train, X_test, y_train, y_test = train_test_split(X_norm, y, test_size=0.3, random_state=42)"
   ]
  },
  {
   "cell_type": "code",
   "execution_count": 14,
   "metadata": {},
   "outputs": [],
   "source": [
    "if training: # Train the model \n",
    "    # Create you neural net\n",
    "    from keras.models import Sequential\n",
    "    from keras.layers import Dense\n",
    "    model = Sequential()\n",
    "    model.add(Dense(200, input_dim=6, activation='relu')) # 14\n",
    "    # model.add(Dense(16, activation='relu'))\n",
    "    model.add(Dense(150, activation='relu'))\n",
    "    model.add(Dense(120, activation='relu'))\n",
    "    model.add(Dense(98, activation='sigmoid'))\n",
    "\n",
    "    model.compile(loss='binary_crossentropy', optimizer='adam', metrics=['accuracy'])\n",
    "    # Train model\n",
    "    model.fit(X_norm, y, epochs=1400, batch_size=50, shuffle=True, verbose=2)\n",
    "    # Store model\n",
    "    model.save('./models/{}'.format(today))\n",
    "else: # Get stored model\n",
    "    model = keras.models.load_model('./models'.format(today))"
   ]
  },
  {
   "cell_type": "markdown",
   "metadata": {},
   "source": [
    "Analysing model"
   ]
  },
  {
   "cell_type": "code",
   "execution_count": 15,
   "metadata": {},
   "outputs": [],
   "source": [
    "if training:\n",
    "    predictions = model.predict(X_test)\n",
    "\n",
    "    decoded_test = ohe.inverse_transform(y_test)\n",
    "    decoded_prediction = ohe.inverse_transform(predictions)\n",
    "\n",
    "    data = np.concatenate((decoded_test, decoded_prediction), axis=1)\n",
    "\n",
    "    comparation = pd.DataFrame(data=data, columns=[\"Train\", \"Prediction\"])\n",
    "    comparation['Error'] = abs(comparation['Train'] - comparation['Prediction'])\n",
    "    comparation = comparation.astype('int32')\n",
    "\n",
    "    print('The maximum error:', comparation['Error'].max())\n",
    "    print('The average error:', comparation['Error'].mean())\n",
    "    print('The dispersion of data:', comparation['Error'].std())\n",
    "\n",
    "    comparation.head(3)"
   ]
  },
  {
   "cell_type": "markdown",
   "metadata": {},
   "source": [
    "## Manually studying data"
   ]
  },
  {
   "cell_type": "code",
   "execution_count": 16,
   "metadata": {},
   "outputs": [
    {
     "data": {
      "text/html": [
       "<div>\n",
       "<style scoped>\n",
       "    .dataframe tbody tr th:only-of-type {\n",
       "        vertical-align: middle;\n",
       "    }\n",
       "\n",
       "    .dataframe tbody tr th {\n",
       "        vertical-align: top;\n",
       "    }\n",
       "\n",
       "    .dataframe thead th {\n",
       "        text-align: right;\n",
       "    }\n",
       "</style>\n",
       "<table border=\"1\" class=\"dataframe\">\n",
       "  <thead>\n",
       "    <tr style=\"text-align: right;\">\n",
       "      <th></th>\n",
       "      <th>HomeTeam</th>\n",
       "      <th>AwayTeam</th>\n",
       "      <th>BetScore</th>\n",
       "      <th>Predictions</th>\n",
       "      <th>Confidence</th>\n",
       "    </tr>\n",
       "  </thead>\n",
       "  <tbody>\n",
       "    <tr>\n",
       "      <th>0</th>\n",
       "      <td>Brooklyn Nets</td>\n",
       "      <td>Milwaukee Bucks</td>\n",
       "      <td>242</td>\n",
       "      <td>206</td>\n",
       "      <td>36</td>\n",
       "    </tr>\n",
       "    <tr>\n",
       "      <th>1</th>\n",
       "      <td>Portland Trail Blazers</td>\n",
       "      <td>Boston Celtics</td>\n",
       "      <td>234</td>\n",
       "      <td>183</td>\n",
       "      <td>51</td>\n",
       "    </tr>\n",
       "    <tr>\n",
       "      <th>2</th>\n",
       "      <td>Miami Heat</td>\n",
       "      <td>Charlotte Hornets</td>\n",
       "      <td>211</td>\n",
       "      <td>211</td>\n",
       "      <td>0</td>\n",
       "    </tr>\n",
       "    <tr>\n",
       "      <th>3</th>\n",
       "      <td>New York Knicks</td>\n",
       "      <td>Houston Rockets</td>\n",
       "      <td>217</td>\n",
       "      <td>220</td>\n",
       "      <td>3</td>\n",
       "    </tr>\n",
       "    <tr>\n",
       "      <th>4</th>\n",
       "      <td>Philadelphia 76ers</td>\n",
       "      <td>San Antonio Spurs</td>\n",
       "      <td>180</td>\n",
       "      <td>216</td>\n",
       "      <td>36</td>\n",
       "    </tr>\n",
       "    <tr>\n",
       "      <th>5</th>\n",
       "      <td>Phoenix Suns</td>\n",
       "      <td>Oklahoma City Thunder</td>\n",
       "      <td>222</td>\n",
       "      <td>229</td>\n",
       "      <td>7</td>\n",
       "    </tr>\n",
       "    <tr>\n",
       "      <th>6</th>\n",
       "      <td>Sacramento Kings</td>\n",
       "      <td>Dallas Mavericks</td>\n",
       "      <td>0</td>\n",
       "      <td>233</td>\n",
       "      <td>233</td>\n",
       "    </tr>\n",
       "    <tr>\n",
       "      <th>7</th>\n",
       "      <td>Toronto Raptors</td>\n",
       "      <td>Los Angeles Lakers</td>\n",
       "      <td>217</td>\n",
       "      <td>212</td>\n",
       "      <td>5</td>\n",
       "    </tr>\n",
       "  </tbody>\n",
       "</table>\n",
       "</div>"
      ],
      "text/plain": [
       "                 HomeTeam               AwayTeam BetScore  Predictions  \\\n",
       "0           Brooklyn Nets        Milwaukee Bucks      242          206   \n",
       "1  Portland Trail Blazers         Boston Celtics      234          183   \n",
       "2              Miami Heat      Charlotte Hornets      211          211   \n",
       "3         New York Knicks        Houston Rockets      217          220   \n",
       "4      Philadelphia 76ers      San Antonio Spurs      180          216   \n",
       "5            Phoenix Suns  Oklahoma City Thunder      222          229   \n",
       "6        Sacramento Kings       Dallas Mavericks        0          233   \n",
       "7         Toronto Raptors     Los Angeles Lakers      217          212   \n",
       "\n",
       "  Confidence  \n",
       "0         36  \n",
       "1         51  \n",
       "2          0  \n",
       "3          3  \n",
       "4         36  \n",
       "5          7  \n",
       "6        233  \n",
       "7          5  "
      ]
     },
     "execution_count": 16,
     "metadata": {},
     "output_type": "execute_result"
    }
   ],
   "source": [
    "future_games = [\n",
    "    ['BKN', 'MIL', 242],\n",
    "    ['POR', 'BOS', 234],\n",
    "    ['MIA', 'CHA', 211],\n",
    "    ['NY', 'HOU', 217],\n",
    "    ['PHI', 'SA', 180],\n",
    "    ['PHX', 'OKC', 222],\n",
    "    ['SAC', 'DAL', 0],\n",
    "    ['TOR', 'LAL', 217],  \n",
    "]\n",
    "\n",
    "new_games = pd.DataFrame(columns = ['HomeTeam', 'AwayTeam', 'BetScore'])\n",
    "               \n",
    "for game in future_games:\n",
    "    home_team = resources.teams.conversion_dict[game[0]]\n",
    "    away_team = resources.teams.conversion_dict[game[1]]\n",
    "    game = [home_team, away_team, game[2]]\n",
    "    resources.df_helper.append_row(new_games, game)\n",
    "    \n",
    "today_games = replace_teams(new_games, stats_df)\n",
    "today_games_norm = x_scaler.transform(today_games)\n",
    "\n",
    "predictions = model.predict(today_games_norm)\n",
    "decoded_predictions = ohe.inverse_transform(predictions)\n",
    "\n",
    "new_games['Predictions'] = decoded_predictions\n",
    "new_games['Confidence'] = abs(new_games['BetScore'] - new_games['Predictions'])\n",
    "\n",
    "new_games"
   ]
  }
 ],
 "metadata": {
  "kernelspec": {
   "display_name": "Python 3",
   "language": "python",
   "name": "python3"
  },
  "language_info": {
   "codemirror_mode": {
    "name": "ipython",
    "version": 3
   },
   "file_extension": ".py",
   "mimetype": "text/x-python",
   "name": "python",
   "nbconvert_exporter": "python",
   "pygments_lexer": "ipython3",
   "version": "3.8.5"
  }
 },
 "nbformat": 4,
 "nbformat_minor": 4
}
