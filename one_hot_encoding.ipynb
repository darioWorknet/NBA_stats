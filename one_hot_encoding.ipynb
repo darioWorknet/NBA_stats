{
 "cells": [
  {
   "cell_type": "code",
   "execution_count": 1,
   "metadata": {},
   "outputs": [],
   "source": [
    "from selenium import webdriver\n",
    "import pandas as pd\n",
    "# import matplotlib\n",
    "import seaborn as sns # visualization\n",
    "import matplotlib.pyplot as plt\n",
    "import numpy as np\n",
    "import scipy.stats as stats\n",
    "import math\n",
    "import statistics\n",
    "import resources # custom libraries\n",
    "import numpy as np\n",
    "from tensorflow import keras\n",
    "import tensorflow as tf\n",
    "from datetime import datetime"
   ]
  },
  {
   "cell_type": "markdown",
   "metadata": {},
   "source": [
    "## Scrapping the data\n",
    "- Entering url and stracting data as a Pandas df\n",
    "- After scrapping the data, df will be stored as CSV file\n",
    "- If data has been already scrapped, data is stracted from CSV"
   ]
  },
  {
   "cell_type": "code",
   "execution_count": 2,
   "metadata": {},
   "outputs": [
    {
     "name": "stdout",
     "output_type": "stream",
     "text": [
      "Discarding following match Toronto Raptors vs Washington Wizards\n",
      "Discarding following match Cleveland Cavaliers vs Phoenix Suns\n",
      "Discarding following match San Antonio Spurs vs Philadelphia 76ers\n",
      "Discarding following match Minnesota Timberwolves vs New Orleans Pelicans\n",
      "Discarding following match Boston Celtics vs San Antonio Spurs\n",
      "Discarding following match Washington Wizards vs San Antonio Spurs\n",
      "Discarding following match New York Knicks vs Atlanta Hawks\n",
      "Discarding following match Denver Nuggets vs Memphis Grizzlies\n",
      "Discarding following match Milwaukee Bucks vs Phoenix Suns\n",
      "Discarding following match New York Knicks vs New Orleans Pelicans\n",
      "Discarding following match Los Angeles Lakers vs Utah Jazz\n",
      "Discarding following match Washington Wizards vs New Orleans Pelicans\n",
      "Discarding following match Boston Celtics vs Minnesota Timberwolves\n",
      "Discarding following match New York Knicks vs Memphis Grizzlies\n",
      "Discarding following match Phoenix Suns vs Utah Jazz\n",
      "Discarding following match San Antonio Spurs vs Indiana Pacers\n",
      "Discarding following match San Antonio Spurs vs Atlanta Hawks\n",
      "Discarding following match New Orleans Pelicans vs Orlando Magic\n",
      "Discarding following match Charlotte Hornets vs Phoenix Suns\n",
      "Discarding following match Memphis Grizzlies vs Boston Celtics\n",
      "Discarding following match New York Knicks vs Philadelphia 76ers\n",
      "Discarding following match Miami Heat vs Indiana Pacers\n",
      "Discarding following match Denver Nuggets vs Chicago Bulls\n",
      "Discarding following match Philadelphia 76ers vs Milwaukee Bucks\n",
      "Discarding following match Team Durant vs Team LeBron\n",
      "Discarding following match Philadelphia 76ers vs Utah Jazz\n",
      "Discarding following match San Antonio Spurs vs Brooklyn Nets\n",
      "Discarding following match Philadelphia 76ers vs Cleveland Cavaliers\n",
      "Discarding following match Chicago Bulls vs Minnesota Timberwolves\n",
      "Discarding following match Los Angeles Lakers vs Washington Wizards\n",
      "Discarding following match New Orleans Pelicans vs Boston Celtics\n",
      "Discarding following match Golden State Warriors vs Miami Heat\n",
      "Discarding following match Minnesota Timberwolves vs Indiana Pacers\n",
      "Discarding following match Indiana Pacers vs Chicago Bulls\n",
      "Discarding following match Los Angeles Lakers vs Oklahoma City Thunder\n",
      "Discarding following match Los Angeles Lakers vs Oklahoma City Thunder\n",
      "Discarding following match Los Angeles Lakers vs Detroit Pistons\n",
      "Discarding following match Miami Heat vs Charlotte Hornets\n",
      "Discarding following match Atlanta Hawks vs Brooklyn Nets\n",
      "Discarding following match Phoenix Suns vs Denver Nuggets\n",
      "Discarding following match Phoenix Suns vs Denver Nuggets\n",
      "Discarding following match Indiana Pacers vs Orlando Magic\n",
      "Discarding following match Atlanta Hawks vs Detroit Pistons\n",
      "Discarding following match Cleveland Cavaliers vs Brooklyn Nets\n",
      "Discarding following match Oklahoma City Thunder vs Chicago Bulls\n",
      "Discarding following match Philadelphia 76ers vs Miami Heat\n",
      "Discarding following match Minnesota Timberwolves vs San Antonio Spurs\n",
      "Discarding following match Detroit Pistons vs Phoenix Suns\n",
      "Discarding following match Denver Nuggets vs Dallas Mavericks\n",
      "Discarding following match New Orleans Pelicans vs Indiana Pacers\n",
      "Discarding following match Brooklyn Nets vs Memphis Grizzlies\n",
      "Discarding following match Portland Trail Blazers vs Houston Rockets\n",
      "Discarding following match Detroit Pistons vs Cleveland Cavaliers\n",
      "Discarding following match Denver Nuggets vs Sacramento Kings\n",
      "Discarding following match Dallas Mavericks vs Minnesota Timberwolves\n"
     ]
    }
   ],
   "source": [
    "training = True\n",
    "\n",
    "if training:\n",
    "    today = str(datetime.today().strftime('%d-%m'))\n",
    "    # Getting data\n",
    "    df = resources.data_scraper.scrape()\n",
    "    # Casting columns\n",
    "    df[df.columns[2]] = df[df.columns[2]].astype(np.int64)\n",
    "    df[df.columns[3]] = df[df.columns[3]].astype(np.int64)\n",
    "    # Adding total_score column\n",
    "    df[\"TotalScore\"] = df[df.columns[2]] + df[df.columns[3]]\n",
    "    # Store CSV\n",
    "    df.to_csv('data/{}.csv'.format(today), encoding='utf-8', index=False)\n",
    "else:\n",
    "    today = '07-05'\n",
    "    df = pd.read_csv('data/{}.csv'.format(today))"
   ]
  },
  {
   "cell_type": "code",
   "execution_count": 3,
   "metadata": {},
   "outputs": [
    {
     "data": {
      "text/html": [
       "<div>\n",
       "<style scoped>\n",
       "    .dataframe tbody tr th:only-of-type {\n",
       "        vertical-align: middle;\n",
       "    }\n",
       "\n",
       "    .dataframe tbody tr th {\n",
       "        vertical-align: top;\n",
       "    }\n",
       "\n",
       "    .dataframe thead th {\n",
       "        text-align: right;\n",
       "    }\n",
       "</style>\n",
       "<table border=\"1\" class=\"dataframe\">\n",
       "  <thead>\n",
       "    <tr style=\"text-align: right;\">\n",
       "      <th></th>\n",
       "      <th>HomeTeam</th>\n",
       "      <th>AwayTeam</th>\n",
       "      <th>ScoreHome</th>\n",
       "      <th>ScoreAway</th>\n",
       "      <th>TotalScore</th>\n",
       "    </tr>\n",
       "  </thead>\n",
       "  <tbody>\n",
       "    <tr>\n",
       "      <th>0</th>\n",
       "      <td>Golden State Warriors</td>\n",
       "      <td>Oklahoma City Thunder</td>\n",
       "      <td>118</td>\n",
       "      <td>97</td>\n",
       "      <td>215</td>\n",
       "    </tr>\n",
       "    <tr>\n",
       "      <th>1</th>\n",
       "      <td>Los Angeles Clippers</td>\n",
       "      <td>Los Angeles Lakers</td>\n",
       "      <td>118</td>\n",
       "      <td>94</td>\n",
       "      <td>212</td>\n",
       "    </tr>\n",
       "    <tr>\n",
       "      <th>2</th>\n",
       "      <td>Detroit Pistons</td>\n",
       "      <td>Memphis Grizzlies</td>\n",
       "      <td>111</td>\n",
       "      <td>97</td>\n",
       "      <td>208</td>\n",
       "    </tr>\n",
       "    <tr>\n",
       "      <th>3</th>\n",
       "      <td>Indiana Pacers</td>\n",
       "      <td>Atlanta Hawks</td>\n",
       "      <td>133</td>\n",
       "      <td>126</td>\n",
       "      <td>259</td>\n",
       "    </tr>\n",
       "    <tr>\n",
       "      <th>4</th>\n",
       "      <td>Dallas Mavericks</td>\n",
       "      <td>Brooklyn Nets</td>\n",
       "      <td>113</td>\n",
       "      <td>109</td>\n",
       "      <td>222</td>\n",
       "    </tr>\n",
       "  </tbody>\n",
       "</table>\n",
       "</div>"
      ],
      "text/plain": [
       "                HomeTeam               AwayTeam  ScoreHome  ScoreAway  \\\n",
       "0  Golden State Warriors  Oklahoma City Thunder        118         97   \n",
       "1   Los Angeles Clippers     Los Angeles Lakers        118         94   \n",
       "2        Detroit Pistons      Memphis Grizzlies        111         97   \n",
       "3         Indiana Pacers          Atlanta Hawks        133        126   \n",
       "4       Dallas Mavericks          Brooklyn Nets        113        109   \n",
       "\n",
       "   TotalScore  \n",
       "0         215  \n",
       "1         212  \n",
       "2         208  \n",
       "3         259  \n",
       "4         222  "
      ]
     },
     "execution_count": 3,
     "metadata": {},
     "output_type": "execute_result"
    }
   ],
   "source": [
    "df.head()"
   ]
  },
  {
   "cell_type": "markdown",
   "metadata": {},
   "source": [
    "#### Heatmap"
   ]
  },
  {
   "cell_type": "code",
   "execution_count": 65,
   "metadata": {},
   "outputs": [],
   "source": [
    "# resources.graph.heatmap(df, f_size=10, cmap=\"afmhot_r\",vmin=150, vmax=250)"
   ]
  },
  {
   "cell_type": "markdown",
   "metadata": {},
   "source": [
    "### Frecuency histogram\n",
    "- To know how many divisions or 'bins' should be done in the histogram, we must use Sturges law\n",
    "\n",
    "$$ c = 1 + \\dfrac{log(M)}{log(2)}$$"
   ]
  },
  {
   "cell_type": "code",
   "execution_count": 5,
   "metadata": {},
   "outputs": [],
   "source": [
    "# resources.graph.frecuency_histogram(df)\n"
   ]
  },
  {
   "cell_type": "markdown",
   "metadata": {},
   "source": [
    "#### Boxplot"
   ]
  },
  {
   "cell_type": "code",
   "execution_count": 6,
   "metadata": {},
   "outputs": [],
   "source": [
    "# plt.boxplot(df['TotalScore'])\n",
    "# plt.title(\"Total score distribution\")"
   ]
  },
  {
   "cell_type": "markdown",
   "metadata": {},
   "source": [
    "#### Normal dfistribution"
   ]
  },
  {
   "cell_type": "code",
   "execution_count": 7,
   "metadata": {},
   "outputs": [],
   "source": [
    "# resources.graph.normal_distribution(df, 'Atlanta Hawks')"
   ]
  },
  {
   "cell_type": "markdown",
   "metadata": {},
   "source": [
    "## Data analysis\n",
    "- Analysing data\n",
    "- Store results in a new df"
   ]
  },
  {
   "cell_type": "code",
   "execution_count": 8,
   "metadata": {},
   "outputs": [
    {
     "data": {
      "text/html": [
       "<div>\n",
       "<style scoped>\n",
       "    .dataframe tbody tr th:only-of-type {\n",
       "        vertical-align: middle;\n",
       "    }\n",
       "\n",
       "    .dataframe tbody tr th {\n",
       "        vertical-align: top;\n",
       "    }\n",
       "\n",
       "    .dataframe thead th {\n",
       "        text-align: right;\n",
       "    }\n",
       "</style>\n",
       "<table border=\"1\" class=\"dataframe\">\n",
       "  <thead>\n",
       "    <tr style=\"text-align: right;\">\n",
       "      <th></th>\n",
       "      <th>team</th>\n",
       "      <th>mean</th>\n",
       "      <th>P25</th>\n",
       "      <th>P75</th>\n",
       "      <th>factorDown</th>\n",
       "      <th>factorUp</th>\n",
       "      <th>WfactorDown</th>\n",
       "      <th>WfactorUp</th>\n",
       "    </tr>\n",
       "  </thead>\n",
       "  <tbody>\n",
       "    <tr>\n",
       "      <th>0</th>\n",
       "      <td>Golden State Warriors</td>\n",
       "      <td>225.449275</td>\n",
       "      <td>214.0</td>\n",
       "      <td>234.0</td>\n",
       "      <td>1.449275</td>\n",
       "      <td>13.043478</td>\n",
       "      <td>2.876025</td>\n",
       "      <td>93.051634</td>\n",
       "    </tr>\n",
       "    <tr>\n",
       "      <th>1</th>\n",
       "      <td>Los Angeles Clippers</td>\n",
       "      <td>221.742857</td>\n",
       "      <td>210.0</td>\n",
       "      <td>234.0</td>\n",
       "      <td>8.571429</td>\n",
       "      <td>8.571429</td>\n",
       "      <td>58.281345</td>\n",
       "      <td>53.724774</td>\n",
       "    </tr>\n",
       "    <tr>\n",
       "      <th>2</th>\n",
       "      <td>Detroit Pistons</td>\n",
       "      <td>214.701493</td>\n",
       "      <td>201.0</td>\n",
       "      <td>224.5</td>\n",
       "      <td>14.925373</td>\n",
       "      <td>5.970149</td>\n",
       "      <td>111.063811</td>\n",
       "      <td>32.789787</td>\n",
       "    </tr>\n",
       "    <tr>\n",
       "      <th>3</th>\n",
       "      <td>Indiana Pacers</td>\n",
       "      <td>228.285714</td>\n",
       "      <td>214.0</td>\n",
       "      <td>243.0</td>\n",
       "      <td>9.523810</td>\n",
       "      <td>20.634921</td>\n",
       "      <td>43.107490</td>\n",
       "      <td>201.228233</td>\n",
       "    </tr>\n",
       "    <tr>\n",
       "      <th>4</th>\n",
       "      <td>Dallas Mavericks</td>\n",
       "      <td>221.955224</td>\n",
       "      <td>210.0</td>\n",
       "      <td>236.0</td>\n",
       "      <td>13.432836</td>\n",
       "      <td>8.955224</td>\n",
       "      <td>89.239944</td>\n",
       "      <td>111.804113</td>\n",
       "    </tr>\n",
       "  </tbody>\n",
       "</table>\n",
       "</div>"
      ],
      "text/plain": [
       "                    team        mean    P25    P75  factorDown   factorUp  \\\n",
       "0  Golden State Warriors  225.449275  214.0  234.0    1.449275  13.043478   \n",
       "1   Los Angeles Clippers  221.742857  210.0  234.0    8.571429   8.571429   \n",
       "2        Detroit Pistons  214.701493  201.0  224.5   14.925373   5.970149   \n",
       "3         Indiana Pacers  228.285714  214.0  243.0    9.523810  20.634921   \n",
       "4       Dallas Mavericks  221.955224  210.0  236.0   13.432836   8.955224   \n",
       "\n",
       "   WfactorDown   WfactorUp  \n",
       "0     2.876025   93.051634  \n",
       "1    58.281345   53.724774  \n",
       "2   111.063811   32.789787  \n",
       "3    43.107490  201.228233  \n",
       "4    89.239944  111.804113  "
      ]
     },
     "execution_count": 8,
     "metadata": {},
     "output_type": "execute_result"
    }
   ],
   "source": [
    "stats_df = resources.nba_stats.stats(df)\n",
    "stats_df.head()"
   ]
  },
  {
   "cell_type": "markdown",
   "metadata": {},
   "source": [
    "Correlation analysis"
   ]
  },
  {
   "cell_type": "code",
   "execution_count": 67,
   "metadata": {},
   "outputs": [
    {
     "data": {
      "image/png": "[encoded data removed]",
      "text/plain": [
       "<Figure size 432x288 with 2 Axes>"
      ]
     },
     "metadata": {
      "needs_background": "light"
     },
     "output_type": "display_data"
    }
   ],
   "source": [
    "x_col = \"factorDown\"\n",
    "y_col = \"WfactorUp\"\n",
    "z_col = \"mean\"\n",
    "\n",
    "# fig, axs = plt.subplots(2, 2, sharex=True, sharey=True)\n",
    "sub_df = stats_df.loc[:, [x_col, y_col, z_col]]\n",
    "# sub_df.drop_duplicates(subset=x_col, inplace=True)\n",
    "# sub_df.drop_duplicates(subset=y_col, inplace=True)\n",
    "pivoted = sub_df.pivot(x_col, y_col, z_col)\n",
    "\n",
    "ax = sns.heatmap(pivoted)\n",
    "\n",
    "plt.tight_layout()\n",
    "plt.show()"
   ]
  },
  {
   "cell_type": "markdown",
   "metadata": {},
   "source": [
    "## Training model"
   ]
  },
  {
   "cell_type": "code",
   "execution_count": 150,
   "metadata": {},
   "outputs": [],
   "source": [
    "# Extract X, deleting non desired attributes\n",
    "def replace_teams(df, stats_df):\n",
    "    merged = pd.merge(left=df.iloc[:, :2], right=stats_df, how='inner',\n",
    "                     left_on='HomeTeam', right_on='team')\n",
    "\n",
    "    merged = pd.merge(left=merged, right=stats_df, how='inner',\n",
    "                     left_on='AwayTeam', right_on='team')\n",
    "#     print(merged.head())\n",
    "    X = merged.iloc[:, np.r_[3:10, 11:18]]\n",
    "#     print(X.head())\n",
    "\n",
    "#     X = X.iloc[:, [1,6,  9,12]]\n",
    "    return X"
   ]
  },
  {
   "cell_type": "code",
   "execution_count": 151,
   "metadata": {},
   "outputs": [],
   "source": [
    "from sklearn.preprocessing import OneHotEncoder\n",
    "ohe = OneHotEncoder()\n",
    "min_score_value = df['TotalScore'].min()\n",
    "max_score_value = df['TotalScore'].max()\n",
    "range_scores = [x for x in range(min_score_value, max_score_value+1)]\n",
    "range_scores = np.array(range_scores)\n",
    "range_scores = np.expand_dims(range_scores, axis=1)\n",
    "\n",
    "ohe.fit(range_scores)\n",
    "\n",
    "X = replace_teams(df, stats_df)\n",
    "# print(X)\n",
    "\n",
    "# y = pd.get_dummies(df['TotalScore'], prefix='score')\n",
    "y = ohe.transform(df[['TotalScore']]).toarray()"
   ]
  },
  {
   "cell_type": "code",
   "execution_count": 152,
   "metadata": {},
   "outputs": [],
   "source": [
    "from sklearn.preprocessing import MinMaxScaler, normalize\n",
    "x_scaler = MinMaxScaler().fit(X)\n",
    "\n",
    "if training:# Normalize data\n",
    "    X_norm = x_scaler.transform(X)"
   ]
  },
  {
   "cell_type": "code",
   "execution_count": 153,
   "metadata": {},
   "outputs": [],
   "source": [
    "if training: # Create training and validations sets\n",
    "    from sklearn.model_selection import train_test_split\n",
    "    X_train, X_test, y_train, y_test = train_test_split(X_norm, y, test_size=0.3, random_state=42)"
   ]
  },
  {
   "cell_type": "code",
   "execution_count": 1,
   "metadata": {},
   "outputs": [
    {
     "ename": "NameError",
     "evalue": "name 'training' is not defined",
     "output_type": "error",
     "traceback": [
      "\u001b[1;31m---------------------------------------------------------------------------\u001b[0m",
      "\u001b[1;31mNameError\u001b[0m                                 Traceback (most recent call last)",
      "\u001b[1;32m<ipython-input-1-b85bdd76c215>\u001b[0m in \u001b[0;36m<module>\u001b[1;34m\u001b[0m\n\u001b[1;32m----> 1\u001b[1;33m \u001b[1;32mif\u001b[0m \u001b[0mtraining\u001b[0m\u001b[1;33m:\u001b[0m \u001b[1;31m# Train the model\u001b[0m\u001b[1;33m\u001b[0m\u001b[1;33m\u001b[0m\u001b[0m\n\u001b[0m\u001b[0;32m      2\u001b[0m     \u001b[1;31m# Create you neural net\u001b[0m\u001b[1;33m\u001b[0m\u001b[1;33m\u001b[0m\u001b[1;33m\u001b[0m\u001b[0m\n\u001b[0;32m      3\u001b[0m     \u001b[1;32mfrom\u001b[0m \u001b[0mkeras\u001b[0m\u001b[1;33m.\u001b[0m\u001b[0mmodels\u001b[0m \u001b[1;32mimport\u001b[0m \u001b[0mSequential\u001b[0m\u001b[1;33m\u001b[0m\u001b[1;33m\u001b[0m\u001b[0m\n\u001b[0;32m      4\u001b[0m     \u001b[1;32mfrom\u001b[0m \u001b[0mkeras\u001b[0m\u001b[1;33m.\u001b[0m\u001b[0mlayers\u001b[0m \u001b[1;32mimport\u001b[0m \u001b[0mDense\u001b[0m\u001b[1;33m\u001b[0m\u001b[1;33m\u001b[0m\u001b[0m\n\u001b[0;32m      5\u001b[0m \u001b[1;33m\u001b[0m\u001b[0m\n",
      "\u001b[1;31mNameError\u001b[0m: name 'training' is not defined"
     ]
    }
   ],
   "source": [
    "if training: # Train the model \n",
    "    # Create you neural net\n",
    "    from keras.models import Sequential\n",
    "    from keras.layers import Dense\n",
    "    \n",
    "    # Model parameters\n",
    "    input_dim = X.shape[1]\n",
    "    out_size = y.shape[1]\n",
    "    \n",
    "    # Model creation\n",
    "    model = Sequential()\n",
    "    model.add(Dense(200, input_dim=input_dim, activation='relu')) # 14\n",
    "    model.add(Dense(160, activation='selu'))\n",
    "    model.add(Dense(150, activation='selu'))\n",
    "    model.add(Dense(120, activation='relu'))\n",
    "    model.add(Dense(out_size, activation='sigmoid'))\n",
    "    model.compile(loss=\"categorical_crossentropy\", optimizer='adam', metrics=['accuracy'])\n",
    "    \n",
    "    # Model training\n",
    "    model.fit(X_norm, y, epochs=200, batch_size=10, shuffle=True, verbose=2)\n",
    "    \n",
    "    # Store model\n",
    "    model.save('./models/OHE/{}'.format(today))\n",
    "else: # Get stored model\n",
    "    model = keras.models.load_model('./models/OHE'.format(today))"
   ]
  },
  {
   "cell_type": "markdown",
   "metadata": {},
   "source": [
    "Analysing model"
   ]
  },
  {
   "cell_type": "code",
   "execution_count": 158,
   "metadata": {},
   "outputs": [
    {
     "name": "stdout",
     "output_type": "stream",
     "text": [
      "The maximum error: 58\n",
      "The average error: 4.905723905723906\n",
      "The dispersion of data: 11.28131681223912\n"
     ]
    }
   ],
   "source": [
    "if training:\n",
    "    predictions = model.predict(X_test)\n",
    "\n",
    "    decoded_test = ohe.inverse_transform(y_test)\n",
    "    decoded_prediction = ohe.inverse_transform(predictions)\n",
    "\n",
    "    data = np.concatenate((decoded_test, decoded_prediction), axis=1)\n",
    "\n",
    "    comparation = pd.DataFrame(data=data, columns=[\"Train\", \"Prediction\"])\n",
    "    comparation['Error'] = abs(comparation['Train'] - comparation['Prediction'])\n",
    "    comparation = comparation.astype('int32')\n",
    "\n",
    "    print('The maximum error:', comparation['Error'].max())\n",
    "    print('The average error:', comparation['Error'].mean())\n",
    "    print('The dispersion of data:', comparation['Error'].std())\n",
    "\n",
    "    comparation.head(3)\n",
    "    \n",
    "    # Epochs = 200\n",
    "    # Maximum error = 50\n",
    "    # Average error = 5\n",
    "    # Dispersion = 11"
   ]
  },
  {
   "cell_type": "markdown",
   "metadata": {},
   "source": [
    "## Predicting data"
   ]
  },
  {
   "cell_type": "code",
   "execution_count": 159,
   "metadata": {},
   "outputs": [
    {
     "data": {
      "text/html": [
       "<div>\n",
       "<style scoped>\n",
       "    .dataframe tbody tr th:only-of-type {\n",
       "        vertical-align: middle;\n",
       "    }\n",
       "\n",
       "    .dataframe tbody tr th {\n",
       "        vertical-align: top;\n",
       "    }\n",
       "\n",
       "    .dataframe thead th {\n",
       "        text-align: right;\n",
       "    }\n",
       "</style>\n",
       "<table border=\"1\" class=\"dataframe\">\n",
       "  <thead>\n",
       "    <tr style=\"text-align: right;\">\n",
       "      <th></th>\n",
       "      <th>HomeTeam</th>\n",
       "      <th>AwayTeam</th>\n",
       "      <th>BetScore</th>\n",
       "      <th>Predictions</th>\n",
       "      <th>Confidence</th>\n",
       "    </tr>\n",
       "  </thead>\n",
       "  <tbody>\n",
       "    <tr>\n",
       "      <th>0</th>\n",
       "      <td>New Orleans Pelicans</td>\n",
       "      <td>Philadelphia 76ers</td>\n",
       "      <td>227</td>\n",
       "      <td>217</td>\n",
       "      <td>10</td>\n",
       "    </tr>\n",
       "    <tr>\n",
       "      <th>1</th>\n",
       "      <td>Boston Celtics</td>\n",
       "      <td>Chicago Bulls</td>\n",
       "      <td>224</td>\n",
       "      <td>216</td>\n",
       "      <td>8</td>\n",
       "    </tr>\n",
       "    <tr>\n",
       "      <th>2</th>\n",
       "      <td>Houston Rockets</td>\n",
       "      <td>Milwaukee Bucks</td>\n",
       "      <td>232</td>\n",
       "      <td>217</td>\n",
       "      <td>15</td>\n",
       "    </tr>\n",
       "    <tr>\n",
       "      <th>3</th>\n",
       "      <td>Minnesota Timberwolves</td>\n",
       "      <td>Miami Heat</td>\n",
       "      <td>227</td>\n",
       "      <td>220</td>\n",
       "      <td>7</td>\n",
       "    </tr>\n",
       "    <tr>\n",
       "      <th>4</th>\n",
       "      <td>Orlando Magic</td>\n",
       "      <td>Charlotte Hornets</td>\n",
       "      <td>215</td>\n",
       "      <td>246</td>\n",
       "      <td>31</td>\n",
       "    </tr>\n",
       "    <tr>\n",
       "      <th>5</th>\n",
       "      <td>Cleveland Cavaliers</td>\n",
       "      <td>Dallas Mavericks</td>\n",
       "      <td>219</td>\n",
       "      <td>220</td>\n",
       "      <td>1</td>\n",
       "    </tr>\n",
       "    <tr>\n",
       "      <th>6</th>\n",
       "      <td>Denver Nuggets</td>\n",
       "      <td>Utah Jazz</td>\n",
       "      <td>215</td>\n",
       "      <td>209</td>\n",
       "      <td>6</td>\n",
       "    </tr>\n",
       "    <tr>\n",
       "      <th>7</th>\n",
       "      <td>Los Angeles Lakers</td>\n",
       "      <td>Portland Trail Blazers</td>\n",
       "      <td>222</td>\n",
       "      <td>252</td>\n",
       "      <td>30</td>\n",
       "    </tr>\n",
       "    <tr>\n",
       "      <th>8</th>\n",
       "      <td>New York Knicks</td>\n",
       "      <td>Phoenix Suns</td>\n",
       "      <td>217</td>\n",
       "      <td>233</td>\n",
       "      <td>16</td>\n",
       "    </tr>\n",
       "    <tr>\n",
       "      <th>9</th>\n",
       "      <td>San Antonio Spurs</td>\n",
       "      <td>Sacramento Kings</td>\n",
       "      <td>223</td>\n",
       "      <td>258</td>\n",
       "      <td>35</td>\n",
       "    </tr>\n",
       "  </tbody>\n",
       "</table>\n",
       "</div>"
      ],
      "text/plain": [
       "                 HomeTeam                AwayTeam BetScore  Predictions  \\\n",
       "0    New Orleans Pelicans      Philadelphia 76ers      227          217   \n",
       "1          Boston Celtics           Chicago Bulls      224          216   \n",
       "2         Houston Rockets         Milwaukee Bucks      232          217   \n",
       "3  Minnesota Timberwolves              Miami Heat      227          220   \n",
       "4           Orlando Magic       Charlotte Hornets      215          246   \n",
       "5     Cleveland Cavaliers        Dallas Mavericks      219          220   \n",
       "6          Denver Nuggets               Utah Jazz      215          209   \n",
       "7      Los Angeles Lakers  Portland Trail Blazers      222          252   \n",
       "8         New York Knicks            Phoenix Suns      217          233   \n",
       "9       San Antonio Spurs        Sacramento Kings      223          258   \n",
       "\n",
       "  Confidence  \n",
       "0         10  \n",
       "1          8  \n",
       "2         15  \n",
       "3          7  \n",
       "4         31  \n",
       "5          1  \n",
       "6          6  \n",
       "7         30  \n",
       "8         16  \n",
       "9         35  "
      ]
     },
     "execution_count": 159,
     "metadata": {},
     "output_type": "execute_result"
    }
   ],
   "source": [
    "future_games = [\n",
    "    ['NO', 'PHI', 227],\n",
    "    ['BOS', 'CHI', 224],\n",
    "    ['HOU', 'MIL', 232],\n",
    "    ['MIN', 'MIA', 227],\n",
    "    ['ORL', 'CHA', 215],\n",
    "    ['CLE', 'DAL', 219],\n",
    "    ['DEN', 'UTA', 215],\n",
    "    ['LAL', 'POR', 222],\n",
    "    ['NY', 'PHX', 217],\n",
    "    ['SA', 'SAC', 223],\n",
    "]\n",
    "\n",
    "new_games = pd.DataFrame(columns = ['HomeTeam', 'AwayTeam', 'BetScore'])\n",
    "               \n",
    "for game in future_games:\n",
    "    home_team = resources.teams.conversion_dict[game[0]]\n",
    "    away_team = resources.teams.conversion_dict[game[1]]\n",
    "    game = [home_team, away_team, game[2]]\n",
    "    resources.df_helper.append_row(new_games, game)\n",
    "    \n",
    "today_games = replace_teams(new_games, stats_df)\n",
    "today_games_norm = x_scaler.transform(today_games)\n",
    "\n",
    "predictions = model.predict(today_games_norm)\n",
    "decoded_predictions = ohe.inverse_transform(predictions)\n",
    "\n",
    "new_games['Predictions'] = decoded_predictions\n",
    "new_games['Confidence'] = abs(new_games['BetScore'] - new_games['Predictions'])\n",
    "\n",
    "new_games"
   ]
  }
 ],
 "metadata": {
  "kernelspec": {
   "display_name": "Python 3",
   "language": "python",
   "name": "python3"
  },
  "language_info": {
   "codemirror_mode": {
    "name": "ipython",
    "version": 3
   },
   "file_extension": ".py",
   "mimetype": "text/x-python",
   "name": "python",
   "nbconvert_exporter": "python",
   "pygments_lexer": "ipython3",
   "version": "3.8.5"
  }
 },
 "nbformat": 4,
 "nbformat_minor": 4
}
