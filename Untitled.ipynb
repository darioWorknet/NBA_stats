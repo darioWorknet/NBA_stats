{
 "cells": [
  {
   "cell_type": "code",
   "execution_count": 1,
   "id": "acoustic-classic",
   "metadata": {},
   "outputs": [],
   "source": [
    "import requests\n",
    "from bs4 import BeautifulSoup\n",
    "import pandas as pd"
   ]
  },
  {
   "cell_type": "code",
   "execution_count": 23,
   "id": "czech-cisco",
   "metadata": {},
   "outputs": [],
   "source": [
    "def get_NBA_stats(year, player):\n",
    "    # year=input(\"Which NBA season are you interested in?: \")\n",
    "    # player=input(\"For which player do you want to get stats?: \")\n",
    "\n",
    "    url = 'https://www.basketball-reference.com/leagues/NBA_{}_per_game.html'.format(year)\n",
    "\n",
    "    r = requests.get(url)\n",
    "    r_html = r.text\n",
    "    soup = BeautifulSoup(r_html,'html.parser')\n",
    "\n",
    "    table=soup.find_all(class_=\"full_table\")\n",
    "    print(len(table))\n",
    "\n",
    "    \"\"\" Extracting List of column names\"\"\"\n",
    "    head=soup.find(class_=\"thead\")\n",
    "    column_names_raw=[head.text for item in head][0]\n",
    "    column_names_polished=column_names_raw.replace(\"\\n\",\",\").split(\",\")[2:-1]\n",
    "    print(column_names_polished)\n",
    "    print(len(table))\n",
    "    \n",
    "    \"\"\"Extracting full list of player_data\"\"\"\n",
    "    players=[]\n",
    "\n",
    "    for i in range(len(table)):\n",
    "\n",
    "        player_=[]\n",
    "\n",
    "        for td in table[i].find_all(\"td\"):\n",
    "            player_.append(td.text)\n",
    "\n",
    "        players.append(player_)\n",
    "    df=pd.DataFrame(players, columns=column_names_polished).set_index(\"Player\")\n",
    "    #cleaning the player's name from occasional special characters\n",
    "    df.index=df.index.str.replace('*', '')\n",
    "    print(df.loc[player])"
   ]
  },
  {
   "cell_type": "code",
   "execution_count": 24,
   "id": "binding-starter",
   "metadata": {},
   "outputs": [
    {
     "name": "stdout",
     "output_type": "stream",
     "text": [
      "529\n",
      "['Player', 'Pos', 'Age', 'Tm', 'G', 'GS', 'MP', 'FG', 'FGA', 'FG%', '3P', '3PA', '3P%', '2P', '2PA', '2P%', 'eFG%', 'FT', 'FTA', 'FT%', 'ORB', 'DRB', 'TRB', 'AST', 'STL', 'BLK', 'TOV', 'PF', 'PTS']\n",
      "529\n",
      "Pos        C\n",
      "Age       26\n",
      "Tm       OKC\n",
      "G         63\n",
      "GS        63\n",
      "MP      26.7\n",
      "FG       4.5\n",
      "FGA      7.6\n",
      "FG%     .592\n",
      "3P       0.0\n",
      "3PA      0.0\n",
      "3P%     .333\n",
      "2P       4.5\n",
      "2PA      7.5\n",
      "2P%     .594\n",
      "eFG%    .593\n",
      "FT       1.9\n",
      "FTA      3.2\n",
      "FT%     .582\n",
      "ORB      3.3\n",
      "DRB      6.0\n",
      "TRB      9.3\n",
      "AST      2.3\n",
      "STL      0.8\n",
      "BLK      1.1\n",
      "TOV      1.5\n",
      "PF       1.9\n",
      "PTS     10.9\n",
      "Name: Steven Adams, dtype: object\n"
     ]
    },
    {
     "name": "stderr",
     "output_type": "stream",
     "text": [
      "<ipython-input-23-d873884aa44b>:34: FutureWarning: The default value of regex will change from True to False in a future version. In addition, single character regular expressions will*not* be treated as literal strings when regex=True.\n",
      "  df.index=df.index.str.replace('*', '')\n"
     ]
    }
   ],
   "source": [
    "get_NBA_stats(2020, 'Steven Adams')"
   ]
  },
  {
   "cell_type": "code",
   "execution_count": 15,
   "id": "boring-marshall",
   "metadata": {},
   "outputs": [],
   "source": [
    "def extracting_player_data(player, table):\n",
    "    \"\"\"Extracting full list of player_data\"\"\"\n",
    "    players=[]\n",
    "\n",
    "    for i in range(len(table)):\n",
    "\n",
    "        player_=[]\n",
    "\n",
    "        for td in table[i].find_all(\"td\"):\n",
    "            player_.append(td.text)\n",
    "\n",
    "        players.append(player_)\n",
    "    df=pd.DataFrame(players, columns=column_names_polished).set_index(\"Player\")\n",
    "    #cleaning the player's name from occasional special characters\n",
    "    df.index=df.index.str.replace('*', '')"
   ]
  },
  {
   "cell_type": "code",
   "execution_count": 17,
   "id": "passing-lighting",
   "metadata": {},
   "outputs": [
    {
     "ename": "NameError",
     "evalue": "name 'column_names_polished' is not defined",
     "output_type": "error",
     "traceback": [
      "\u001b[1;31m---------------------------------------------------------------------------\u001b[0m",
      "\u001b[1;31mNameError\u001b[0m                                 Traceback (most recent call last)",
      "\u001b[1;32m<ipython-input-17-4bf1dc1cb384>\u001b[0m in \u001b[0;36m<module>\u001b[1;34m\u001b[0m\n\u001b[1;32m----> 1\u001b[1;33m \u001b[0mextracting_player_data\u001b[0m\u001b[1;33m(\u001b[0m\u001b[1;34m'Steven Adams'\u001b[0m\u001b[1;33m,\u001b[0m\u001b[0mtable\u001b[0m\u001b[1;33m)\u001b[0m\u001b[1;33m\u001b[0m\u001b[1;33m\u001b[0m\u001b[0m\n\u001b[0m",
      "\u001b[1;32m<ipython-input-15-d04b9cfc334d>\u001b[0m in \u001b[0;36mextracting_player_data\u001b[1;34m(player, table)\u001b[0m\n\u001b[0;32m     11\u001b[0m \u001b[1;33m\u001b[0m\u001b[0m\n\u001b[0;32m     12\u001b[0m         \u001b[0mplayers\u001b[0m\u001b[1;33m.\u001b[0m\u001b[0mappend\u001b[0m\u001b[1;33m(\u001b[0m\u001b[0mplayer_\u001b[0m\u001b[1;33m)\u001b[0m\u001b[1;33m\u001b[0m\u001b[1;33m\u001b[0m\u001b[0m\n\u001b[1;32m---> 13\u001b[1;33m     \u001b[0mdf\u001b[0m\u001b[1;33m=\u001b[0m\u001b[0mpd\u001b[0m\u001b[1;33m.\u001b[0m\u001b[0mDataFrame\u001b[0m\u001b[1;33m(\u001b[0m\u001b[0mplayers\u001b[0m\u001b[1;33m,\u001b[0m \u001b[0mcolumns\u001b[0m\u001b[1;33m=\u001b[0m\u001b[0mcolumn_names_polished\u001b[0m\u001b[1;33m)\u001b[0m\u001b[1;33m.\u001b[0m\u001b[0mset_index\u001b[0m\u001b[1;33m(\u001b[0m\u001b[1;34m\"Player\"\u001b[0m\u001b[1;33m)\u001b[0m\u001b[1;33m\u001b[0m\u001b[1;33m\u001b[0m\u001b[0m\n\u001b[0m\u001b[0;32m     14\u001b[0m     \u001b[1;31m#cleaning the player's name from occasional special characters\u001b[0m\u001b[1;33m\u001b[0m\u001b[1;33m\u001b[0m\u001b[1;33m\u001b[0m\u001b[0m\n\u001b[0;32m     15\u001b[0m     \u001b[0mdf\u001b[0m\u001b[1;33m.\u001b[0m\u001b[0mindex\u001b[0m\u001b[1;33m=\u001b[0m\u001b[0mdf\u001b[0m\u001b[1;33m.\u001b[0m\u001b[0mindex\u001b[0m\u001b[1;33m.\u001b[0m\u001b[0mstr\u001b[0m\u001b[1;33m.\u001b[0m\u001b[0mreplace\u001b[0m\u001b[1;33m(\u001b[0m\u001b[1;34m'*'\u001b[0m\u001b[1;33m,\u001b[0m \u001b[1;34m''\u001b[0m\u001b[1;33m)\u001b[0m\u001b[1;33m\u001b[0m\u001b[1;33m\u001b[0m\u001b[0m\n",
      "\u001b[1;31mNameError\u001b[0m: name 'column_names_polished' is not defined"
     ]
    }
   ],
   "source": [
    "extracting_player_data('Steven Adams',table)"
   ]
  }
 ],
 "metadata": {
  "kernelspec": {
   "display_name": "Python 3",
   "language": "python",
   "name": "python3"
  },
  "language_info": {
   "codemirror_mode": {
    "name": "ipython",
    "version": 3
   },
   "file_extension": ".py",
   "mimetype": "text/x-python",
   "name": "python",
   "nbconvert_exporter": "python",
   "pygments_lexer": "ipython3",
   "version": "3.9.1"
  }
 },
 "nbformat": 4,
 "nbformat_minor": 5
}
